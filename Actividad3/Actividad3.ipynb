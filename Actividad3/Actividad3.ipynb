{
  "nbformat": 4,
  "nbformat_minor": 0,
  "metadata": {
    "colab": {
      "name": "Actividad3.ipynb",
      "provenance": [],
      "collapsed_sections": []
    },
    "kernelspec": {
      "name": "python3",
      "display_name": "Python 3"
    }
  },
  "cells": [
    {
      "cell_type": "markdown",
      "metadata": {
        "id": "S0Ys686cDWpN"
      },
      "source": [
        "# ***Actividad 3***\n",
        "\"DataFrames & Pandas\" \n",
        "\n",
        "---"
      ]
    },
    {
      "cell_type": "markdown",
      "metadata": {
        "id": "lhLYCJaENgg4"
      },
      "source": [
        "Para esta actividad trabajaremos con los datos registrados por la estación de \"El Triunfo\" de Baja California Sur, tomaremos los datos que se encuentran en formato .txt y los almacenaremos en un DataFrame para su posterior manipulación. "
      ]
    },
    {
      "cell_type": "code",
      "metadata": {
        "id": "UEYHRuiZ_Ufl"
      },
      "source": [
        "#Aqui introducimos las bibliotecas a utilizar\n",
        "import pandas as pd\n",
        "\n",
        "#Definimos como la direccion url donde se ubica nuestro archivo\n",
        "url=\"https://raw.githubusercontent.com/GerardoxCarreon/FisicaComputacional1/master/Actividad3/Copia%20de%20Climatologia%20diaria_La%20Paz.txt\"\n",
        "\n",
        "#Definimos manualmente los nombres para nuestras columnas mediante la función my_cols\n",
        "my_cols=[ 'Fecha' , 'Precip(mm)' , 'Evap(mm)' , 'Tempmax(ºC)' , 'Tempmin(ºC)' ]\n",
        "#Definimos nuestro archivo como un csv con parametros para poder leerlo como Dataframe \n",
        "df_clim = pd.read_csv(url, names=my_cols, encoding='cp1252', sep='\\s+', header=None, skiprows=19, skipfooter=1, skip_blank_lines=True, engine='python')\n",
        "#names=my_cols: Para nombrar a las columnas con los nombres que acabamos de definir\n",
        "#encoding='cp1252': Parametro obligatorio para que se puedan leer archivos escritos en español\n",
        "#sep='\\s+': Indica que el metodo por el cual se separa la informacion es por espacios\n",
        "#header:None: Le indica al archivo que ignore el encabezado del archivo \n",
        "#skiprows=19: Se saltan los primeros 19 renglones y de ahi se empiezan a leer los datos\n",
        "#skipfooter=1: Le indica al archivo que no lea o ignore el ultimo renglon del archivo a leer\n",
        "#skip_blank_lines=True: Se saltan o ignoran los espacios en blanco del archivo\n",
        "#engine='python': Indica el el lenguaje de programacion con el que se va a leer el archivo\n",
        "\n",
        "#Nuestro archivo esta listo para ser leido df_clim\n",
        "\n"
      ],
      "execution_count": 24,
      "outputs": []
    },
    {
      "cell_type": "code",
      "metadata": {
        "colab": {
          "base_uri": "https://localhost:8080/"
        },
        "id": "BYHVMR8u7e_N",
        "outputId": "a79a39c2-db9f-454a-d388-d88834a63494"
      },
      "source": [
        "#Se imprimiran los primeros y ultimos 5 renglones de la tabla de datos\n",
        "print('ENCABEZADO DE DATAFRAME\\n')\n",
        "print(df_clim.head())\n",
        "print('')\n",
        "print('PIE DE DATAFRAME\\n')\n",
        "print(df_clim.tail())"
      ],
      "execution_count": 25,
      "outputs": [
        {
          "output_type": "stream",
          "text": [
            "ENCABEZADO DE DATAFRAME\n",
            "\n",
            "        Fecha Precip(mm) Evap(mm) Tempmax(ºC) Tempmin(ºC)\n",
            "0  18/04/1961          0     Nulo          33        Nulo\n",
            "1  19/04/1961          0     Nulo          31        12.5\n",
            "2  20/04/1961          0     Nulo          31          12\n",
            "3  21/04/1961          0     Nulo          33          16\n",
            "4  22/04/1961          0     Nulo          36          16\n",
            "\n",
            "PIE DE DATAFRAME\n",
            "\n",
            "            Fecha Precip(mm) Evap(mm) Tempmax(ºC) Tempmin(ºC)\n",
            "18656  27/12/2017          0     Nulo          25          13\n",
            "18657  28/12/2017          0     Nulo          27          13\n",
            "18658  29/12/2017          0     Nulo          27          16\n",
            "18659  30/12/2017          0     Nulo          29          13\n",
            "18660  31/12/2017          0     Nulo          29          16\n"
          ],
          "name": "stdout"
        }
      ]
    },
    {
      "cell_type": "code",
      "metadata": {
        "colab": {
          "base_uri": "https://localhost:8080/"
        },
        "id": "W7BdqJn7735y",
        "outputId": "b742a394-f0e7-461a-84a3-9c644b973b05"
      },
      "source": [
        "#Informacion del DataFrame\n",
        "print('INFORMACION DE DATAFRAME\\n')\n",
        "df_clim.info()"
      ],
      "execution_count": 26,
      "outputs": [
        {
          "output_type": "stream",
          "text": [
            "INFORMACION DE DATAFRAME\n",
            "\n",
            "<class 'pandas.core.frame.DataFrame'>\n",
            "RangeIndex: 18661 entries, 0 to 18660\n",
            "Data columns (total 5 columns):\n",
            " #   Column       Non-Null Count  Dtype \n",
            "---  ------       --------------  ----- \n",
            " 0   Fecha        18661 non-null  object\n",
            " 1   Precip(mm)   18661 non-null  object\n",
            " 2   Evap(mm)     18661 non-null  object\n",
            " 3   Tempmax(ºC)  18661 non-null  object\n",
            " 4   Tempmin(ºC)  18661 non-null  object\n",
            "dtypes: object(5)\n",
            "memory usage: 729.1+ KB\n"
          ],
          "name": "stdout"
        }
      ]
    },
    {
      "cell_type": "code",
      "metadata": {
        "id": "pIs-1ZH4Fe_k",
        "colab": {
          "base_uri": "https://localhost:8080/"
        },
        "outputId": "a03ddc5f-b719-41dc-9f5c-7c04266a8d1f"
      },
      "source": [
        "#Dimensiones del DataFrame\n",
        "print('DIMENSIONES DE DATAFRAME\\n')\n",
        "df_clim.shape"
      ],
      "execution_count": 27,
      "outputs": [
        {
          "output_type": "stream",
          "text": [
            "DIMENSIONES DE DATAFRAME\n",
            "\n"
          ],
          "name": "stdout"
        },
        {
          "output_type": "execute_result",
          "data": {
            "text/plain": [
              "(18661, 5)"
            ]
          },
          "metadata": {
            "tags": []
          },
          "execution_count": 27
        }
      ]
    },
    {
      "cell_type": "code",
      "metadata": {
        "colab": {
          "base_uri": "https://localhost:8080/",
          "height": 238
        },
        "id": "O3nhWVpKVPcb",
        "outputId": "4f5833b2-7a1a-4836-c726-55702c04a400"
      },
      "source": [
        "#Realizamos una copia del primer DataFrame e imprimimos el encabezado de la copia\n",
        "df_cop=df_clim.copy()\n",
        "print('ENCABEZADO DE DATAFRAME\\n')\n",
        "df_cop.head()"
      ],
      "execution_count": 28,
      "outputs": [
        {
          "output_type": "stream",
          "text": [
            "ENCABEZADO DE DATAFRAME\n",
            "\n"
          ],
          "name": "stdout"
        },
        {
          "output_type": "execute_result",
          "data": {
            "text/html": [
              "<div>\n",
              "<style scoped>\n",
              "    .dataframe tbody tr th:only-of-type {\n",
              "        vertical-align: middle;\n",
              "    }\n",
              "\n",
              "    .dataframe tbody tr th {\n",
              "        vertical-align: top;\n",
              "    }\n",
              "\n",
              "    .dataframe thead th {\n",
              "        text-align: right;\n",
              "    }\n",
              "</style>\n",
              "<table border=\"1\" class=\"dataframe\">\n",
              "  <thead>\n",
              "    <tr style=\"text-align: right;\">\n",
              "      <th></th>\n",
              "      <th>Fecha</th>\n",
              "      <th>Precip(mm)</th>\n",
              "      <th>Evap(mm)</th>\n",
              "      <th>Tempmax(ºC)</th>\n",
              "      <th>Tempmin(ºC)</th>\n",
              "    </tr>\n",
              "  </thead>\n",
              "  <tbody>\n",
              "    <tr>\n",
              "      <th>0</th>\n",
              "      <td>18/04/1961</td>\n",
              "      <td>0</td>\n",
              "      <td>Nulo</td>\n",
              "      <td>33</td>\n",
              "      <td>Nulo</td>\n",
              "    </tr>\n",
              "    <tr>\n",
              "      <th>1</th>\n",
              "      <td>19/04/1961</td>\n",
              "      <td>0</td>\n",
              "      <td>Nulo</td>\n",
              "      <td>31</td>\n",
              "      <td>12.5</td>\n",
              "    </tr>\n",
              "    <tr>\n",
              "      <th>2</th>\n",
              "      <td>20/04/1961</td>\n",
              "      <td>0</td>\n",
              "      <td>Nulo</td>\n",
              "      <td>31</td>\n",
              "      <td>12</td>\n",
              "    </tr>\n",
              "    <tr>\n",
              "      <th>3</th>\n",
              "      <td>21/04/1961</td>\n",
              "      <td>0</td>\n",
              "      <td>Nulo</td>\n",
              "      <td>33</td>\n",
              "      <td>16</td>\n",
              "    </tr>\n",
              "    <tr>\n",
              "      <th>4</th>\n",
              "      <td>22/04/1961</td>\n",
              "      <td>0</td>\n",
              "      <td>Nulo</td>\n",
              "      <td>36</td>\n",
              "      <td>16</td>\n",
              "    </tr>\n",
              "  </tbody>\n",
              "</table>\n",
              "</div>"
            ],
            "text/plain": [
              "        Fecha Precip(mm) Evap(mm) Tempmax(ºC) Tempmin(ºC)\n",
              "0  18/04/1961          0     Nulo          33        Nulo\n",
              "1  19/04/1961          0     Nulo          31        12.5\n",
              "2  20/04/1961          0     Nulo          31          12\n",
              "3  21/04/1961          0     Nulo          33          16\n",
              "4  22/04/1961          0     Nulo          36          16"
            ]
          },
          "metadata": {
            "tags": []
          },
          "execution_count": 28
        }
      ]
    },
    {
      "cell_type": "code",
      "metadata": {
        "colab": {
          "base_uri": "https://localhost:8080/",
          "height": 238
        },
        "id": "2FmXrtzpWUIu",
        "outputId": "64af4093-f6e0-43e1-d836-a62c2845394f"
      },
      "source": [
        "#Sustituimos los valores marcados como Nulo en el DataFrame por espacios en blanco\n",
        "#Para esto deberemos sustituir la copia del primer DataFrame por otra copia\n",
        "str_Nulo = 'Nulo'\n",
        "df_cop2 = df_cop.replace(to_replace=str_Nulo, value='', regex=True)\n",
        "#Imprimimos el nuevo encabezado\n",
        "print('ENCABEZADO DE DATAFRAME\\n')\n",
        "df_cop2.head()"
      ],
      "execution_count": 29,
      "outputs": [
        {
          "output_type": "stream",
          "text": [
            "ENCABEZADO DE DATAFRAME\n",
            "\n"
          ],
          "name": "stdout"
        },
        {
          "output_type": "execute_result",
          "data": {
            "text/html": [
              "<div>\n",
              "<style scoped>\n",
              "    .dataframe tbody tr th:only-of-type {\n",
              "        vertical-align: middle;\n",
              "    }\n",
              "\n",
              "    .dataframe tbody tr th {\n",
              "        vertical-align: top;\n",
              "    }\n",
              "\n",
              "    .dataframe thead th {\n",
              "        text-align: right;\n",
              "    }\n",
              "</style>\n",
              "<table border=\"1\" class=\"dataframe\">\n",
              "  <thead>\n",
              "    <tr style=\"text-align: right;\">\n",
              "      <th></th>\n",
              "      <th>Fecha</th>\n",
              "      <th>Precip(mm)</th>\n",
              "      <th>Evap(mm)</th>\n",
              "      <th>Tempmax(ºC)</th>\n",
              "      <th>Tempmin(ºC)</th>\n",
              "    </tr>\n",
              "  </thead>\n",
              "  <tbody>\n",
              "    <tr>\n",
              "      <th>0</th>\n",
              "      <td>18/04/1961</td>\n",
              "      <td>0</td>\n",
              "      <td></td>\n",
              "      <td>33</td>\n",
              "      <td></td>\n",
              "    </tr>\n",
              "    <tr>\n",
              "      <th>1</th>\n",
              "      <td>19/04/1961</td>\n",
              "      <td>0</td>\n",
              "      <td></td>\n",
              "      <td>31</td>\n",
              "      <td>12.5</td>\n",
              "    </tr>\n",
              "    <tr>\n",
              "      <th>2</th>\n",
              "      <td>20/04/1961</td>\n",
              "      <td>0</td>\n",
              "      <td></td>\n",
              "      <td>31</td>\n",
              "      <td>12</td>\n",
              "    </tr>\n",
              "    <tr>\n",
              "      <th>3</th>\n",
              "      <td>21/04/1961</td>\n",
              "      <td>0</td>\n",
              "      <td></td>\n",
              "      <td>33</td>\n",
              "      <td>16</td>\n",
              "    </tr>\n",
              "    <tr>\n",
              "      <th>4</th>\n",
              "      <td>22/04/1961</td>\n",
              "      <td>0</td>\n",
              "      <td></td>\n",
              "      <td>36</td>\n",
              "      <td>16</td>\n",
              "    </tr>\n",
              "  </tbody>\n",
              "</table>\n",
              "</div>"
            ],
            "text/plain": [
              "        Fecha Precip(mm) Evap(mm) Tempmax(ºC) Tempmin(ºC)\n",
              "0  18/04/1961          0                   33            \n",
              "1  19/04/1961          0                   31        12.5\n",
              "2  20/04/1961          0                   31          12\n",
              "3  21/04/1961          0                   33          16\n",
              "4  22/04/1961          0                   36          16"
            ]
          },
          "metadata": {
            "tags": []
          },
          "execution_count": 29
        }
      ]
    },
    {
      "cell_type": "code",
      "metadata": {
        "colab": {
          "base_uri": "https://localhost:8080/"
        },
        "id": "VdhmvzyfXDWr",
        "outputId": "9ded503a-b7c5-430f-a0f6-0e5824cbea1a"
      },
      "source": [
        "#Imprimimos la informacion actualizada de la ultima copia del DataFrame\n",
        "print('INFORMACION DE DATAFRAME\\n')\n",
        "df_cop2.info()"
      ],
      "execution_count": 30,
      "outputs": [
        {
          "output_type": "stream",
          "text": [
            "INFORMACION DE DATAFRAME\n",
            "\n",
            "<class 'pandas.core.frame.DataFrame'>\n",
            "RangeIndex: 18661 entries, 0 to 18660\n",
            "Data columns (total 5 columns):\n",
            " #   Column       Non-Null Count  Dtype \n",
            "---  ------       --------------  ----- \n",
            " 0   Fecha        18661 non-null  object\n",
            " 1   Precip(mm)   18661 non-null  object\n",
            " 2   Evap(mm)     18661 non-null  object\n",
            " 3   Tempmax(ºC)  18661 non-null  object\n",
            " 4   Tempmin(ºC)  18661 non-null  object\n",
            "dtypes: object(5)\n",
            "memory usage: 729.1+ KB\n"
          ],
          "name": "stdout"
        }
      ]
    },
    {
      "cell_type": "code",
      "metadata": {
        "colab": {
          "base_uri": "https://localhost:8080/"
        },
        "id": "Xw4U0gj6Xzjh",
        "outputId": "0858eb66-eab4-402b-ff22-0e634ca2fae9"
      },
      "source": [
        "#Ahora convertiremos todos los valores numericos que el DataFrame almaceno como objetos a numeros flotantes\n",
        "#Los datos que se convertiran en numeros flotantes seran los que se encuentran en las columnas de Precipitacion, Evaporacion, Tempmax y Tempmin\n",
        "cols_list=['Precip(mm)', 'Evap(mm)', 'Tempmax(ºC)', 'Tempmin(ºC)']\n",
        "for cols in cols_list:\n",
        "  df_cop2[cols]=pd.to_numeric(df_cop2[cols], errors='coerce')\n",
        "#Imprimimos nuevamente la informacion actualizada de la ultima copia del DataFrame\n",
        "print('INFORMACION DE DATAFRAME\\n')\n",
        "df_cop2.info()"
      ],
      "execution_count": 31,
      "outputs": [
        {
          "output_type": "stream",
          "text": [
            "INFORMACION DE DATAFRAME\n",
            "\n",
            "<class 'pandas.core.frame.DataFrame'>\n",
            "RangeIndex: 18661 entries, 0 to 18660\n",
            "Data columns (total 5 columns):\n",
            " #   Column       Non-Null Count  Dtype  \n",
            "---  ------       --------------  -----  \n",
            " 0   Fecha        18661 non-null  object \n",
            " 1   Precip(mm)   18659 non-null  float64\n",
            " 2   Evap(mm)     1238 non-null   float64\n",
            " 3   Tempmax(ºC)  18658 non-null  float64\n",
            " 4   Tempmin(ºC)  18657 non-null  float64\n",
            "dtypes: float64(4), object(1)\n",
            "memory usage: 729.1+ KB\n"
          ],
          "name": "stdout"
        }
      ]
    },
    {
      "cell_type": "code",
      "metadata": {
        "colab": {
          "base_uri": "https://localhost:8080/"
        },
        "id": "yBxhABh1ZS63",
        "outputId": "cbb2a546-6d66-4ada-e2e0-899e5ee5f6ba"
      },
      "source": [
        "#Contamos todos los valores nulos ignorados por la ultima instruccion de convertir los objetos de las columnas a numeros flotantes del DataFrame\n",
        "print('VALORES NULOS DEL DATAFRAME\\n')\n",
        "df_cop2.isnull().sum()"
      ],
      "execution_count": 32,
      "outputs": [
        {
          "output_type": "stream",
          "text": [
            "VALORES NULOS DEL DATAFRAME\n",
            "\n"
          ],
          "name": "stdout"
        },
        {
          "output_type": "execute_result",
          "data": {
            "text/plain": [
              "Fecha              0\n",
              "Precip(mm)         2\n",
              "Evap(mm)       17423\n",
              "Tempmax(ºC)        3\n",
              "Tempmin(ºC)        4\n",
              "dtype: int64"
            ]
          },
          "metadata": {
            "tags": []
          },
          "execution_count": 32
        }
      ]
    },
    {
      "cell_type": "code",
      "metadata": {
        "colab": {
          "base_uri": "https://localhost:8080/"
        },
        "id": "MFvCzbn3aED1",
        "outputId": "d70e96c4-678f-4f6a-c6fc-c4d655ac88ba"
      },
      "source": [
        "#Imprimimos el nuevo encabezado y pie del DataFrame\n",
        "print('ENCABEZADO DE DATAFRAME\\n')\n",
        "print(df_cop2.head())\n",
        "print('')\n",
        "print('PIE DE DATAFRAME\\n')\n",
        "print(df_cop2.tail())"
      ],
      "execution_count": 33,
      "outputs": [
        {
          "output_type": "stream",
          "text": [
            "ENCABEZADO DE DATAFRAME\n",
            "\n",
            "        Fecha  Precip(mm)  Evap(mm)  Tempmax(ºC)  Tempmin(ºC)\n",
            "0  18/04/1961         0.0       NaN         33.0          NaN\n",
            "1  19/04/1961         0.0       NaN         31.0         12.5\n",
            "2  20/04/1961         0.0       NaN         31.0         12.0\n",
            "3  21/04/1961         0.0       NaN         33.0         16.0\n",
            "4  22/04/1961         0.0       NaN         36.0         16.0\n",
            "\n",
            "PIE DE DATAFRAME\n",
            "\n",
            "            Fecha  Precip(mm)  Evap(mm)  Tempmax(ºC)  Tempmin(ºC)\n",
            "18656  27/12/2017         0.0       NaN         25.0         13.0\n",
            "18657  28/12/2017         0.0       NaN         27.0         13.0\n",
            "18658  29/12/2017         0.0       NaN         27.0         16.0\n",
            "18659  30/12/2017         0.0       NaN         29.0         13.0\n",
            "18660  31/12/2017         0.0       NaN         29.0         16.0\n"
          ],
          "name": "stdout"
        }
      ]
    },
    {
      "cell_type": "code",
      "metadata": {
        "colab": {
          "base_uri": "https://localhost:8080/",
          "height": 331
        },
        "id": "If5IKxlBaw4G",
        "outputId": "e836d503-49db-4a8e-c4aa-2d53e900953d"
      },
      "source": [
        "#Se realiza una descripcion estadistica de los datos con dos cifras significativas en sus valores\n",
        "print('DESCRPCION DE DATAFRAME\\n')\n",
        "df_cop2.describe().round(2)"
      ],
      "execution_count": 34,
      "outputs": [
        {
          "output_type": "stream",
          "text": [
            "DESCRPCION DE DATAFRAME\n",
            "\n"
          ],
          "name": "stdout"
        },
        {
          "output_type": "execute_result",
          "data": {
            "text/html": [
              "<div>\n",
              "<style scoped>\n",
              "    .dataframe tbody tr th:only-of-type {\n",
              "        vertical-align: middle;\n",
              "    }\n",
              "\n",
              "    .dataframe tbody tr th {\n",
              "        vertical-align: top;\n",
              "    }\n",
              "\n",
              "    .dataframe thead th {\n",
              "        text-align: right;\n",
              "    }\n",
              "</style>\n",
              "<table border=\"1\" class=\"dataframe\">\n",
              "  <thead>\n",
              "    <tr style=\"text-align: right;\">\n",
              "      <th></th>\n",
              "      <th>Precip(mm)</th>\n",
              "      <th>Evap(mm)</th>\n",
              "      <th>Tempmax(ºC)</th>\n",
              "      <th>Tempmin(ºC)</th>\n",
              "    </tr>\n",
              "  </thead>\n",
              "  <tbody>\n",
              "    <tr>\n",
              "      <th>count</th>\n",
              "      <td>18659.00</td>\n",
              "      <td>1238.00</td>\n",
              "      <td>18658.00</td>\n",
              "      <td>18657.00</td>\n",
              "    </tr>\n",
              "    <tr>\n",
              "      <th>mean</th>\n",
              "      <td>1.12</td>\n",
              "      <td>4.22</td>\n",
              "      <td>29.85</td>\n",
              "      <td>13.81</td>\n",
              "    </tr>\n",
              "    <tr>\n",
              "      <th>std</th>\n",
              "      <td>7.37</td>\n",
              "      <td>1.60</td>\n",
              "      <td>4.89</td>\n",
              "      <td>4.76</td>\n",
              "    </tr>\n",
              "    <tr>\n",
              "      <th>min</th>\n",
              "      <td>0.00</td>\n",
              "      <td>0.80</td>\n",
              "      <td>13.00</td>\n",
              "      <td>-4.00</td>\n",
              "    </tr>\n",
              "    <tr>\n",
              "      <th>25%</th>\n",
              "      <td>0.00</td>\n",
              "      <td>2.90</td>\n",
              "      <td>26.00</td>\n",
              "      <td>10.00</td>\n",
              "    </tr>\n",
              "    <tr>\n",
              "      <th>50%</th>\n",
              "      <td>0.00</td>\n",
              "      <td>4.00</td>\n",
              "      <td>30.00</td>\n",
              "      <td>13.00</td>\n",
              "    </tr>\n",
              "    <tr>\n",
              "      <th>75%</th>\n",
              "      <td>0.00</td>\n",
              "      <td>5.20</td>\n",
              "      <td>34.00</td>\n",
              "      <td>18.00</td>\n",
              "    </tr>\n",
              "    <tr>\n",
              "      <th>max</th>\n",
              "      <td>259.00</td>\n",
              "      <td>11.00</td>\n",
              "      <td>42.00</td>\n",
              "      <td>28.00</td>\n",
              "    </tr>\n",
              "  </tbody>\n",
              "</table>\n",
              "</div>"
            ],
            "text/plain": [
              "       Precip(mm)  Evap(mm)  Tempmax(ºC)  Tempmin(ºC)\n",
              "count    18659.00   1238.00     18658.00     18657.00\n",
              "mean         1.12      4.22        29.85        13.81\n",
              "std          7.37      1.60         4.89         4.76\n",
              "min          0.00      0.80        13.00        -4.00\n",
              "25%          0.00      2.90        26.00        10.00\n",
              "50%          0.00      4.00        30.00        13.00\n",
              "75%          0.00      5.20        34.00        18.00\n",
              "max        259.00     11.00        42.00        28.00"
            ]
          },
          "metadata": {
            "tags": []
          },
          "execution_count": 34
        }
      ]
    },
    {
      "cell_type": "code",
      "metadata": {
        "colab": {
          "base_uri": "https://localhost:8080/"
        },
        "id": "nuD7_6sEdWNc",
        "outputId": "cd35f549-e356-4c54-c322-1afd21f399ae"
      },
      "source": [
        "#Nuevamente realizamos una copia del ultimo DataFrame\n",
        "df_cop3=df_cop2.copy()\n",
        "#Imprimimos los primeros 5 renglones de la columna de Fecha\n",
        "print('ENCABEZADO FECHA DE DATAFRAME\\n')\n",
        "df_cop3['Fecha'].head()"
      ],
      "execution_count": 35,
      "outputs": [
        {
          "output_type": "stream",
          "text": [
            "ENCABEZADO FECHA DE DATAFRAME\n",
            "\n"
          ],
          "name": "stdout"
        },
        {
          "output_type": "execute_result",
          "data": {
            "text/plain": [
              "0    18/04/1961\n",
              "1    19/04/1961\n",
              "2    20/04/1961\n",
              "3    21/04/1961\n",
              "4    22/04/1961\n",
              "Name: Fecha, dtype: object"
            ]
          },
          "metadata": {
            "tags": []
          },
          "execution_count": 35
        }
      ]
    },
    {
      "cell_type": "code",
      "metadata": {
        "colab": {
          "base_uri": "https://localhost:8080/"
        },
        "id": "NPZw_NI4bRIh",
        "outputId": "d2d6ca8f-f44c-4cc3-b98a-3d6f54ab2739"
      },
      "source": [
        "#Ahora convertiremos la informacion almacenada en la columna de Fecha del DataFrame de objeto a formato datetime\n",
        "#Utilizamos la función pd.to_datetime que convierte la fecha en datetime \n",
        "#Definimos que la fecha este ordenada por dia, mes, año\n",
        "df_cop3['Fecha']=pd.to_datetime(df_cop3['Fecha'], dayfirst=True).copy()\n",
        "#Imprimimos el encabezado y la informacion del DataFrame para comprobar el formato de la fecha\n",
        "print('ENCABEZADO DE DATAFRAME\\n')\n",
        "print(df_cop3.head())\n",
        "print('')\n",
        "print('INFORMACION DE DATAFRAME\\n')\n",
        "df_cop3.info()\n"
      ],
      "execution_count": 36,
      "outputs": [
        {
          "output_type": "stream",
          "text": [
            "ENCABEZADO DE DATAFRAME\n",
            "\n",
            "       Fecha  Precip(mm)  Evap(mm)  Tempmax(ºC)  Tempmin(ºC)\n",
            "0 1961-04-18         0.0       NaN         33.0          NaN\n",
            "1 1961-04-19         0.0       NaN         31.0         12.5\n",
            "2 1961-04-20         0.0       NaN         31.0         12.0\n",
            "3 1961-04-21         0.0       NaN         33.0         16.0\n",
            "4 1961-04-22         0.0       NaN         36.0         16.0\n",
            "\n",
            "INFORMACION DE DATAFRAME\n",
            "\n",
            "<class 'pandas.core.frame.DataFrame'>\n",
            "RangeIndex: 18661 entries, 0 to 18660\n",
            "Data columns (total 5 columns):\n",
            " #   Column       Non-Null Count  Dtype         \n",
            "---  ------       --------------  -----         \n",
            " 0   Fecha        18661 non-null  datetime64[ns]\n",
            " 1   Precip(mm)   18659 non-null  float64       \n",
            " 2   Evap(mm)     1238 non-null   float64       \n",
            " 3   Tempmax(ºC)  18658 non-null  float64       \n",
            " 4   Tempmin(ºC)  18657 non-null  float64       \n",
            "dtypes: datetime64[ns](1), float64(4)\n",
            "memory usage: 729.1 KB\n"
          ],
          "name": "stdout"
        }
      ]
    },
    {
      "cell_type": "code",
      "metadata": {
        "colab": {
          "base_uri": "https://localhost:8080/"
        },
        "id": "6LvO_Az3gMN_",
        "outputId": "573b55d2-c4ec-40b5-ed41-82e83fef5b21"
      },
      "source": [
        "#Creamos dos nuevas columnas para el DataFrame las cuales contendran el Mes y Año de los datos, para esto extraeremos estos valores de la recien creada columna de Fecha\n",
        "#Usaremos la función .dt.year y .dt.month para extraer el Año y Mes de la Fecha\n",
        "df_cop3['Año'] = df_cop3['Fecha'].dt.year\n",
        "df_cop3['Mes'] = df_cop3['Fecha'].dt.month\n",
        "#Imprimimos el encabezado y el pie del DataFrame para confirmar que se encuentren estas dos nuevas columnas\n",
        "print('ENCABEZADO DE DATAFRAME\\n')\n",
        "print(df_cop3.head())\n",
        "print('')\n",
        "print('PIE DE DATAFRAME\\n')\n",
        "print(df_cop3.tail())"
      ],
      "execution_count": 37,
      "outputs": [
        {
          "output_type": "stream",
          "text": [
            "ENCABEZADO DE DATAFRAME\n",
            "\n",
            "       Fecha  Precip(mm)  Evap(mm)  Tempmax(ºC)  Tempmin(ºC)   Año  Mes\n",
            "0 1961-04-18         0.0       NaN         33.0          NaN  1961    4\n",
            "1 1961-04-19         0.0       NaN         31.0         12.5  1961    4\n",
            "2 1961-04-20         0.0       NaN         31.0         12.0  1961    4\n",
            "3 1961-04-21         0.0       NaN         33.0         16.0  1961    4\n",
            "4 1961-04-22         0.0       NaN         36.0         16.0  1961    4\n",
            "\n",
            "PIE DE DATAFRAME\n",
            "\n",
            "           Fecha  Precip(mm)  Evap(mm)  Tempmax(ºC)  Tempmin(ºC)   Año  Mes\n",
            "18656 2017-12-27         0.0       NaN         25.0         13.0  2017   12\n",
            "18657 2017-12-28         0.0       NaN         27.0         13.0  2017   12\n",
            "18658 2017-12-29         0.0       NaN         27.0         16.0  2017   12\n",
            "18659 2017-12-30         0.0       NaN         29.0         13.0  2017   12\n",
            "18660 2017-12-31         0.0       NaN         29.0         16.0  2017   12\n"
          ],
          "name": "stdout"
        }
      ]
    },
    {
      "cell_type": "code",
      "metadata": {
        "colab": {
          "base_uri": "https://localhost:8080/"
        },
        "id": "lHYfezsVhdpa",
        "outputId": "9bf26347-6a09-4826-8d2c-71572db72216"
      },
      "source": [
        "#Verificamos que la variables de las columnas de Mes y Año sean variables enteras\n",
        "print('INFORMACION DE DATAFRAME\\n')\n",
        "df_cop3.info()\n",
        "#Fin de la actividad 3"
      ],
      "execution_count": 39,
      "outputs": [
        {
          "output_type": "stream",
          "text": [
            "INFORMACION DE DATAFRAME\n",
            "\n",
            "<class 'pandas.core.frame.DataFrame'>\n",
            "RangeIndex: 18661 entries, 0 to 18660\n",
            "Data columns (total 7 columns):\n",
            " #   Column       Non-Null Count  Dtype         \n",
            "---  ------       --------------  -----         \n",
            " 0   Fecha        18661 non-null  datetime64[ns]\n",
            " 1   Precip(mm)   18659 non-null  float64       \n",
            " 2   Evap(mm)     1238 non-null   float64       \n",
            " 3   Tempmax(ºC)  18658 non-null  float64       \n",
            " 4   Tempmin(ºC)  18657 non-null  float64       \n",
            " 5   Año          18661 non-null  int64         \n",
            " 6   Mes          18661 non-null  int64         \n",
            "dtypes: datetime64[ns](1), float64(4), int64(2)\n",
            "memory usage: 1020.6 KB\n"
          ],
          "name": "stdout"
        }
      ]
    },
    {
      "cell_type": "code",
      "metadata": {
        "id": "JZJwClv4ihNK"
      },
      "source": [
        ""
      ],
      "execution_count": null,
      "outputs": []
    }
  ]
}