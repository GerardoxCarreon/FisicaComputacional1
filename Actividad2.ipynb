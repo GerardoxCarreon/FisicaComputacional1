{
  "nbformat": 4,
  "nbformat_minor": 0,
  "metadata": {
    "colab": {
      "name": "Actividad2.ipynb",
      "provenance": [],
      "collapsed_sections": [],
      "authorship_tag": "ABX9TyOyqXda3awuwAxeAfA4kcj8",
      "include_colab_link": true
    },
    "kernelspec": {
      "name": "python3",
      "display_name": "Python 3"
    }
  },
  "cells": [
    {
      "cell_type": "markdown",
      "metadata": {
        "id": "view-in-github",
        "colab_type": "text"
      },
      "source": [
        "<a href=\"https://colab.research.google.com/github/GerardoxCarreon/FisicaComputacional1/blob/master/Actividad2.ipynb\" target=\"_parent\"><img src=\"https://colab.research.google.com/assets/colab-badge.svg\" alt=\"Open In Colab\"/></a>"
      ]
    },
    {
      "cell_type": "code",
      "metadata": {
        "id": "sSCMZIKJ4flL"
      },
      "source": [
        ""
      ],
      "execution_count": null,
      "outputs": []
    },
    {
      "cell_type": "markdown",
      "metadata": {
        "id": "QmT7GmYd4oH6"
      },
      "source": [
        "# ***Primer programa de Python***\n",
        "\n",
        "---\n",
        "\n",
        "\n",
        "\n"
      ]
    },
    {
      "cell_type": "markdown",
      "metadata": {
        "id": "SaIoL2QC8kun"
      },
      "source": [
        "Esta es la actividad 2 de física computacional, durante esta se llevaran a cabo prácticas para reforzar los conocimientos recientemente aprendidos en el curso acerca de las herramientas de Júpiter Notebooks y Python.\n",
        "\n",
        "Se realizarán tres sencillos ejercicios en los que se programaran cuatro programas en Python, en el primer ejercicio se calculará el área de un círculo y una elipse además de calcular el volumen de una esfera y un cilindro circular, en el segundo ejercicio se calcularán las raíces de una ecuación cuadrática y finalmente en el último ejercicio se implementara el uso del método Babilonio para calcular la raíz de un número \"S\".\n"
      ]
    },
    {
      "cell_type": "code",
      "metadata": {
        "id": "qTJl3jGr5jg2"
      },
      "source": [
        "#Aqui introducimos las bibliotecas a utilizar\n",
        "#1. Biblioteca numpy\n",
        "import numpy as np"
      ],
      "execution_count": null,
      "outputs": []
    },
    {
      "cell_type": "markdown",
      "metadata": {
        "id": "wQlgSfvVADws"
      },
      "source": [
        "*   ***Ejemplo*** de lo que se realizara en la actividad.\n",
        "\n",
        "\n",
        "\n",
        "\n",
        "\n"
      ]
    },
    {
      "cell_type": "code",
      "metadata": {
        "colab": {
          "base_uri": "https://localhost:8080/"
        },
        "id": "lm2saIBO5nNp",
        "outputId": "ab4c62f6-0265-4d28-f23d-ca4b659b4d1c"
      },
      "source": [
        "# Se utiliza el símbolo # para hacer comentarios.\n",
        "# Se define una función de 2 variables para calcular el área.  \n",
        "def area(x, y):\n",
        "    return x*y\n",
        "\n",
        "print(\"Por favor introduce el largo del rectángulo: \", end=\"\")\n",
        "l = float(input())\n",
        "print(\"Por favor introduce el ancho del rectángulo: \", end=\"\")\n",
        "w = float(input())\n",
        "a = area(l, w)\n",
        "# Imprime el valor del área en formato libre.\n",
        "print(\"\\nArea = \", a)\n",
        "# Imprime el valor del área con 2 decimales. \n",
        "print(\"\\nArea = {:.2f}\".format(a))"
      ],
      "execution_count": null,
      "outputs": [
        {
          "output_type": "stream",
          "text": [
            "Por favor introduce el largo del rectángulo: 10\n",
            "Por favor introduce el ancho del rectángulo: 15\n",
            "\n",
            "Area =  150.0\n",
            "\n",
            "Area = 150.00\n"
          ],
          "name": "stdout"
        }
      ]
    },
    {
      "cell_type": "markdown",
      "metadata": {
        "id": "PmZaA4nrAgVS"
      },
      "source": [
        "*   # ***Ejercicio 1.***\n",
        "\n",
        "\n",
        "\n",
        "\n",
        "\n"
      ]
    },
    {
      "cell_type": "code",
      "metadata": {
        "id": "68UniSUxA1gZ",
        "colab": {
          "base_uri": "https://localhost:8080/",
          "height": 368
        },
        "outputId": "da7ec368-b114-4ed7-efc8-fd4afe5e0c9c"
      },
      "source": [
        "#Código para calcular el area de una circunferencia y de una elipse dadas las medidas de sus componentes.\n",
        "#Se define la función de area.\n",
        "def area(x,y):\n",
        "  return x*y\n",
        "\n",
        "#Primero se le explica brevemente al usuario de que trata este programa.\n",
        "print(\"Este programa sirve para calcular el area de una circunferencia o de una elpise dados sus componentes\")\n",
        "print(\"\\nElije la figura de la cual deseas calcular su area\",end=\"\")\n",
        "print(\"\\n1.Circunferencia\")\n",
        "print(\"\\n2.Elipse\")\n",
        "o=float(input())\n",
        "x=1\n",
        "y=2\n",
        "if o==x:\n",
        "  #Se desarrolla el programa para calcular el area de la circunferencia\n",
        "  print(\"Muy bien se calculara el area de una circunferencia, introduce el valor de su radio: \")\n",
        "  a=area((np.pi),(r**2))\n",
        "  print(\"\\nArea=\",a)\n",
        "elif o==y:\n",
        "  #Se desarrolla el programa para calcular el area de la elipse.\n",
        "  print(\"Muy bien se calculara el area de una elipse, introduce el valor de su semieje mayor y su semieje menor\")\n",
        "  m=float(input())\n",
        "  n=float(input())\n",
        "  a=(np.pi)*(m)*(n)\n",
        "  print(\"\\nArea=\",a)\n",
        "break\n",
        "#Se finaliza el codigo para calcular areas."
      ],
      "execution_count": 1,
      "outputs": [
        {
          "output_type": "stream",
          "text": [
            "Este programa sirve para calcular el area de una circunferencia o de una elpise dados sus componentes\n",
            "\n",
            "Elije la figura de la cual deseas calcular su area\n",
            "1.Circunferencia\n",
            "\n",
            "2.Elipse\n",
            "1\n",
            "Muy bien se calculara el area de una circunferencia, introduce el valor de su radio: \n"
          ],
          "name": "stdout"
        },
        {
          "output_type": "error",
          "ename": "NameError",
          "evalue": "ignored",
          "traceback": [
            "\u001b[0;31m---------------------------------------------------------------------------\u001b[0m",
            "\u001b[0;31mNameError\u001b[0m                                 Traceback (most recent call last)",
            "\u001b[0;32m<ipython-input-1-5683dcb4b399>\u001b[0m in \u001b[0;36m<module>\u001b[0;34m()\u001b[0m\n\u001b[1;32m     15\u001b[0m   \u001b[0;31m#Se desarrolla el programa para calcular el area de la circunferencia\u001b[0m\u001b[0;34m\u001b[0m\u001b[0;34m\u001b[0m\u001b[0;34m\u001b[0m\u001b[0m\n\u001b[1;32m     16\u001b[0m   \u001b[0mprint\u001b[0m\u001b[0;34m(\u001b[0m\u001b[0;34m\"Muy bien se calculara el area de una circunferencia, introduce el valor de su radio: \"\u001b[0m\u001b[0;34m)\u001b[0m\u001b[0;34m\u001b[0m\u001b[0;34m\u001b[0m\u001b[0m\n\u001b[0;32m---> 17\u001b[0;31m   \u001b[0ma\u001b[0m\u001b[0;34m=\u001b[0m\u001b[0marea\u001b[0m\u001b[0;34m(\u001b[0m\u001b[0;34m(\u001b[0m\u001b[0mnp\u001b[0m\u001b[0;34m.\u001b[0m\u001b[0mpi\u001b[0m\u001b[0;34m)\u001b[0m\u001b[0;34m,\u001b[0m\u001b[0;34m(\u001b[0m\u001b[0mr\u001b[0m\u001b[0;34m**\u001b[0m\u001b[0;36m2\u001b[0m\u001b[0;34m)\u001b[0m\u001b[0;34m)\u001b[0m\u001b[0;34m\u001b[0m\u001b[0;34m\u001b[0m\u001b[0m\n\u001b[0m\u001b[1;32m     18\u001b[0m   \u001b[0mprint\u001b[0m\u001b[0;34m(\u001b[0m\u001b[0;34m\"\\nArea=\"\u001b[0m\u001b[0;34m,\u001b[0m\u001b[0ma\u001b[0m\u001b[0;34m)\u001b[0m\u001b[0;34m\u001b[0m\u001b[0;34m\u001b[0m\u001b[0m\n\u001b[1;32m     19\u001b[0m \u001b[0;32melif\u001b[0m \u001b[0mo\u001b[0m\u001b[0;34m==\u001b[0m\u001b[0my\u001b[0m\u001b[0;34m:\u001b[0m\u001b[0;34m\u001b[0m\u001b[0;34m\u001b[0m\u001b[0m\n",
            "\u001b[0;31mNameError\u001b[0m: name 'np' is not defined"
          ]
        }
      ]
    },
    {
      "cell_type": "code",
      "metadata": {
        "id": "YG-caQuIAic8"
      },
      "source": [
        ""
      ],
      "execution_count": null,
      "outputs": []
    }
  ]
}