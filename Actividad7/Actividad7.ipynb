{
  "nbformat": 4,
  "nbformat_minor": 0,
  "metadata": {
    "colab": {
      "name": "Actividad7.ipynb",
      "provenance": [],
      "collapsed_sections": [],
      "authorship_tag": "ABX9TyOmqYzebG1MLbRjIJ9xGbWO",
      "include_colab_link": true
    },
    "kernelspec": {
      "name": "python3",
      "display_name": "Python 3"
    }
  },
  "cells": [
    {
      "cell_type": "markdown",
      "metadata": {
        "id": "view-in-github",
        "colab_type": "text"
      },
      "source": [
        "<a href=\"https://colab.research.google.com/github/GerardoxCarreon/FisicaComputacional1/blob/master/Actividad7.ipynb\" target=\"_parent\"><img src=\"https://colab.research.google.com/assets/colab-badge.svg\" alt=\"Open In Colab\"/></a>"
      ]
    },
    {
      "cell_type": "markdown",
      "metadata": {
        "id": "PzszWFAod7g2"
      },
      "source": [
        "# ***Actividad 7***\n",
        "\"Algebra Lineal con Python\" \n",
        "\n",
        "---"
      ]
    },
    {
      "cell_type": "markdown",
      "metadata": {
        "id": "dkcbwy_LeG3i"
      },
      "source": [
        "En esta la actividad 7 de física computacional, repasaremos un poco los elementos básicos del álgebra lineal ya que de ahora en adelante realizaremos calculos algebraicos para resolver problemas y proponer soluciones a sistemas de ecuaciones utilizando funciones y herramientas de Pyhton.\n",
        "En esta seccion se introducira una nueva biblioteca de Python llamada SciPy, esta contiene una serie de bibliotecas especiales de calculo que nos podrian interesar en un futuro sin embargo, para este caso solo nos enfocaremos en la scipy.linalg para trabajar con vectores y matrices.\n",
        "\n",
        "La actividad en este caso consiste en realizar los Ejercicios 1 - 6,  que aparecen en el Cuaderno de Jupyter Notebook de este tema."
      ]
    },
    {
      "cell_type": "code",
      "metadata": {
        "id": "Vrg09G9BYlzY"
      },
      "source": [
        "#Aqui introducimos las bibliotecas a utilizar\n",
        "import pandas as pd\n",
        "import numpy as np\n",
        "import matplotlib.pyplot as plt\n",
        "import scipy.linalg as la\n",
        "from numpy.linalg import matrix_power as mpow\n",
        "import pylab as pl"
      ],
      "execution_count": 65,
      "outputs": []
    },
    {
      "cell_type": "markdown",
      "metadata": {
        "id": "xzo_GxjJgmi-"
      },
      "source": [
        "*   # ***Ejercicio 1.*** \n",
        "Definir las siguientes matrices.\n",
        "\n",
        "\\\\\n",
        "\n",
        "$\n",
        "A=\n",
        "\\begin{bmatrix}\n",
        "1 & 3 \\\\\n",
        "-1 & 7 \n",
        "\\end{bmatrix}\n",
        "$\n",
        ";\n",
        "$\n",
        "B=\n",
        "\\begin{bmatrix}\n",
        "5 & 2 \\\\\n",
        "1 & 2 \n",
        "\\end{bmatrix}\n",
        "$\n",
        "y la matriz identidad:\n",
        "$ \n",
        "I=\n",
        "\\begin{bmatrix}\n",
        "1 & 0 \\\\\n",
        "0 & 1 \n",
        "\\end{bmatrix}\n",
        "$\n",
        "\n",
        "\\\\\n",
        "Calcule el resultado de $2*I+3*A+A@B$"
      ]
    },
    {
      "cell_type": "code",
      "metadata": {
        "colab": {
          "base_uri": "https://localhost:8080/"
        },
        "id": "bHoSKDIGgV1V",
        "outputId": "a57f1268-a613-4138-9382-f033326770ce"
      },
      "source": [
        "A=np.array([[1,3],[-1,7]])\n",
        "B=np.array([[5,2],[1,2]])\n",
        "I=np.array([[1,0],[0,1]])\n",
        "print('A=',A,'\\n')\n",
        "print('B=',B,'\\n')\n",
        "print('I=',I,'\\n')\n",
        "#Calculando el primer resultado\n",
        "P1=2*I+3*A+A@B\n",
        "print('Calculando: 2*I+3*A+A@B=\\n',P1,'\\n')"
      ],
      "execution_count": null,
      "outputs": [
        {
          "output_type": "stream",
          "text": [
            "A= [[ 1  3]\n",
            " [-1  7]] \n",
            "\n",
            "B= [[5 2]\n",
            " [1 2]] \n",
            "\n",
            "I= [[1 0]\n",
            " [0 1]] \n",
            "\n",
            "Calculando: 2*I+3*A+A@B=\n",
            " [[13 17]\n",
            " [-1 35]] \n",
            "\n"
          ],
          "name": "stdout"
        }
      ]
    },
    {
      "cell_type": "markdown",
      "metadata": {
        "id": "tWz3cGUYlhGv"
      },
      "source": [
        "*   # ***Ejercicio 2.*** \n",
        "El polinomio característico de una matriz M esta dado en general por la ecuación$$\n",
        "\\det(M - \\lambda I) = 0\n",
        "$$Para una matriz cuadrada M (2x2), el polinomio característico se puede escribir como$$\n",
        "P_2 (\\lambda) = \\det{(M)} - \\mathrm{tr}(M) \\, \\lambda + \\lambda^2   \n",
        "$$y para una matriz cuadrada M (3x3), el polinomio característico resulta ser\n",
        "\n",
        "$$\n",
        "P_3 (\\lambda) = \\frac{1}{6} \n",
        "[ \\mathrm{tr}^3 (M) + 2 \\, \\mathrm{tr }(M^3) - 3 \\, \\mathrm{tr}(M) \\mathrm{tr}(M^2) ] - \n",
        "\\frac{1}{2} [ \\mathrm{tr}^2 (M) - \\mathrm{tr}(M^2) ] \\lambda + \\mathrm{tr}(M) \\lambda^2 - \\lambda^3\n",
        "$$\n",
        "El Teorema de Cayley-Hamilton nos dice que una matriz cuadrada M (2x2), satisface el polinomio característico$$\n",
        "P_2(M) = \\det(M) - \\mathrm{tr}(M) M + M^2 \n",
        "\\\\\n",
        "$$\n",
        "\n",
        "Demuestre esto para cualquier matriz M (2x2), ($\\det(M) \\neq 0$)."
      ]
    },
    {
      "cell_type": "code",
      "metadata": {
        "colab": {
          "base_uri": "https://localhost:8080/"
        },
        "id": "tWwXYig8kVjF",
        "outputId": "5e18183e-0aa6-4b69-801f-f7d98e27e065"
      },
      "source": [
        "#La matriz a utilizar para este caso sera:\n",
        "A=np.array([[6, 6],[-7, 8]])\n",
        "I=np.eye(2, dtype=int)\n",
        "#Calculamos el determinante de la matriz A\n",
        "det=la.det(A)\n",
        "#Calculamos la traza de la matriz A\n",
        "tr=np.trace(A)\n",
        "#TEROMA DE CAYLEY-HAMILTON\n",
        "P2=(det*I)-(tr*A)+(mpow(A,2))\n",
        "#No existe un símbolo para denotar las potencias de matrices. Por eso definimos la función 'mpow' que nos sirve para las potencias\n",
        "#Imprimimos los resultados\n",
        "print(\"Matriz A: \")\n",
        "print()\n",
        "print(A)\n",
        "print()\n",
        "print(\"Determinante: \",det)\n",
        "print()\n",
        "print(\"Traza: \", tr)\n",
        "print()\n",
        "print(\"Matriz Caracteristica: \")\n",
        "print()\n",
        "print( P2 )"
      ],
      "execution_count": null,
      "outputs": [
        {
          "output_type": "stream",
          "text": [
            "Matriz A: \n",
            "\n",
            "[[ 6  6]\n",
            " [-7  8]]\n",
            "\n",
            "Determinante:  90.0\n",
            "\n",
            "Traza:  14\n",
            "\n",
            "Matriz Caracteristica: \n",
            "\n",
            "[[0. 0.]\n",
            " [0. 0.]]\n"
          ],
          "name": "stdout"
        }
      ]
    },
    {
      "cell_type": "markdown",
      "metadata": {
        "id": "0mgKIXg9orjf"
      },
      "source": [
        "*   # ***Ejercicio 3.*** \n",
        "Resuelva el sistema de ecuaciones de dos formas\n",
        "\n",
        "$$\\begin{eqnarray*}\n",
        "x - 3 y + z & = & 1 \\\\ \\nonumber\n",
        "3 x - 4y + z & = & 5 \\\\ \\nonumber\n",
        "2 y - z & = & 0 \\\\ \\nonumber\n",
        "\\end{eqnarray*}$$\n",
        "\n",
        "utilizando el Método de Eliminación Gaussiana y la utilzando la función scipy.linalg.solve()"
      ]
    },
    {
      "cell_type": "code",
      "metadata": {
        "id": "f256bVRIoBmD"
      },
      "source": [
        "#Primero definimos las funciones y operaciones necesarias para resolver el sistema de ecuaciones por el metodo de eliminación Gausseana\n",
        "\n",
        "# Intercambio de posición de renglones.\n",
        "def switch_rows(A,i,j):\n",
        "    \"Intercambiar renglones i y j en la matriz A.\"\n",
        "    n = A.shape[0]\n",
        "    E = np.eye(n)\n",
        "    E[i,i] = 0\n",
        "    E[j,j] = 0\n",
        "    E[i,j] = 1\n",
        "    E[j,i] = 1\n",
        "    return E @ A\n",
        "\n",
        "# Multiplicar un renglón por una constante no nula.\n",
        "def scale_row(A,k,i):\n",
        "    \"Multiplicar el renglón i por k en la matriz A.\"\n",
        "    n = A.shape[0]\n",
        "    E = np.eye(n)\n",
        "    E[i,i] = k\n",
        "    return E @ A\n",
        "\n",
        "# Sumar un múltiplo de un reglon a otro renglón.\n",
        "def add_row(A,k,i,j):\n",
        "    \"Sumar k veces el renglón j al renglón i en la matriz A.\"\n",
        "    n = A.shape[0]\n",
        "    E = np.eye(n)\n",
        "    if i == j:\n",
        "        E[i,i] = k + 1\n",
        "    else:\n",
        "        E[i,j] = k\n",
        "    return E @ A"
      ],
      "execution_count": null,
      "outputs": []
    },
    {
      "cell_type": "markdown",
      "metadata": {
        "id": "7Qz7r44vrSrV"
      },
      "source": [
        "Ahora si, procedemos a resolver el sistema de ecuaciones:\n",
        "\n",
        "$$\\begin{eqnarray*}\n",
        "x - 3 y + z & = & 1 \\\\ \\nonumber\n",
        "3 x - 4y + z & = & 5 \\\\ \\nonumber\n",
        "2 y - z & = & 0 \\\\ \\nonumber\n",
        "\\end{eqnarray*}$$"
      ]
    },
    {
      "cell_type": "code",
      "metadata": {
        "colab": {
          "base_uri": "https://localhost:8080/"
        },
        "id": "HZ5Q_JMgqgif",
        "outputId": "e0fb64b1-08ce-46ec-9f4f-346b25eb2158"
      },
      "source": [
        "#Definimos el sistema de ecuaciones como una matriz\n",
        "A=np.array([[1,-3,1],[3,-4,1],[0,2,-1]])\n",
        "print('El sistema de ecuaciones es:\\n',A,'\\n')\n",
        "#Creamos la matriz aumentada de la matriz A con la matriz identidad con la finalidad de obtener la matriz inversa con mayor facilidad\n",
        "A1=np.hstack([A,np.eye(3)])\n",
        "print('Matriz aumentada:\\n',A1,'\\n')\n",
        "\n",
        "#1) R2*1/3 -----> R2\n",
        "A2=scale_row(A1,1/3,1)\n",
        "print('Multiplicamos el segundo renglon por 1/3 :\\n',A2,'\\n')\n",
        "#2) (-R1)+R2 -----> R2\n",
        "A3=add_row(A2,-1,1,0)\n",
        "print('Multiplicamos el primer renglon por menos 1 y se lo sumamos al segundo renglon:\\n',A3,'\\n')\n",
        "#3) R3*1/2 -----> R3\n",
        "A4=scale_row(A3,1/2,2)\n",
        "print('Multiplicamos el tercer renglon por 1/2:\\n',A4,'\\n')\n",
        "#4) (R2*(-3/5))+R3 -----> R3\n",
        "A5= add_row(A4,(-3/5.),2,1)\n",
        "print('Multiplicamos el segundo renglon por -3/5 y se lo sumamos al tercer renglon:\\n',A5,'\\n')\n",
        "#5) (R3*10)+R1 -----> R1\n",
        "A6=add_row(A5,10.0,0,2)\n",
        "print('Multiplicamos el tercer renglon por 10 y se lo sumamos al primer renglon:\\n',A6,'\\n')\n",
        "#6) (R3*(-20/3))+R2 -----> R2\n",
        "A7=add_row(A6,(-20/3),1,2)\n",
        "print('Multiplicamos el tercer renglon por -20/3 y se lo sumamos al segundo renglon:\\n',A7,'\\n')\n",
        "#7) (R2*9/5)+R1 -----> R1\n",
        "A8=add_row(A7,9/5,0,1)\n",
        "print('Multiplicamos el segundo renglon por 9/5 y se lo sumamos al primer renglon:\\n',A8,'\\n')\n",
        "#8) R2*3/5 -----> R2\n",
        "A9=scale_row(A8,3/5,1)\n",
        "print('Multiplicamos el segundo renglon por 3/5:\\n',A9,'\\n')\n",
        "#9) R3*(-10) -----> R3\n",
        "A10=scale_row(A9,-10,2)\n",
        "print('Multiplicamos el tercer renglon por -10:\\n',A10,'\\n')\n",
        "#Finalmente hemos obtenido la matriz inversa de A\n",
        "A_inv=A10[:,3:]\n",
        "print('Matriz inversa de A:\\n',A_inv,'\\n')"
      ],
      "execution_count": null,
      "outputs": [
        {
          "output_type": "stream",
          "text": [
            "El sistema de ecuaciones es:\n",
            " [[ 1 -3  1]\n",
            " [ 3 -4  1]\n",
            " [ 0  2 -1]] \n",
            "\n",
            "Matriz aumentada:\n",
            " [[ 1. -3.  1.  1.  0.  0.]\n",
            " [ 3. -4.  1.  0.  1.  0.]\n",
            " [ 0.  2. -1.  0.  0.  1.]] \n",
            "\n",
            "Multiplicamos el segundo renglon por 1/3 :\n",
            " [[ 1.         -3.          1.          1.          0.          0.        ]\n",
            " [ 1.         -1.33333333  0.33333333  0.          0.33333333  0.        ]\n",
            " [ 0.          2.         -1.          0.          0.          1.        ]] \n",
            "\n",
            "Multiplicamos el primer renglon por menos 1 y se lo sumamos al segundo renglon:\n",
            " [[ 1.         -3.          1.          1.          0.          0.        ]\n",
            " [ 0.          1.66666667 -0.66666667 -1.          0.33333333  0.        ]\n",
            " [ 0.          2.         -1.          0.          0.          1.        ]] \n",
            "\n",
            "Multiplicamos el tercer renglon por 1/2:\n",
            " [[ 1.         -3.          1.          1.          0.          0.        ]\n",
            " [ 0.          1.66666667 -0.66666667 -1.          0.33333333  0.        ]\n",
            " [ 0.          1.         -0.5         0.          0.          0.5       ]] \n",
            "\n",
            "Multiplicamos el segundo renglon por -3/5 y se lo sumamos al tercer renglon:\n",
            " [[ 1.         -3.          1.          1.          0.          0.        ]\n",
            " [ 0.          1.66666667 -0.66666667 -1.          0.33333333  0.        ]\n",
            " [ 0.          0.         -0.1         0.6        -0.2         0.5       ]] \n",
            "\n",
            "Multiplicamos el tercer renglon por 10 y se lo sumamos al primer renglon:\n",
            " [[ 1.00000000e+00 -3.00000000e+00  2.22044605e-16  7.00000000e+00\n",
            "  -2.00000000e+00  5.00000000e+00]\n",
            " [ 0.00000000e+00  1.66666667e+00 -6.66666667e-01 -1.00000000e+00\n",
            "   3.33333333e-01  0.00000000e+00]\n",
            " [ 0.00000000e+00  0.00000000e+00 -1.00000000e-01  6.00000000e-01\n",
            "  -2.00000000e-01  5.00000000e-01]] \n",
            "\n",
            "Multiplicamos el tercer renglon por -20/3 y se lo sumamos al segundo renglon:\n",
            " [[ 1.00000000e+00 -3.00000000e+00  2.22044605e-16  7.00000000e+00\n",
            "  -2.00000000e+00  5.00000000e+00]\n",
            " [ 0.00000000e+00  1.66666667e+00 -1.92438658e-16 -5.00000000e+00\n",
            "   1.66666667e+00 -3.33333333e+00]\n",
            " [ 0.00000000e+00  0.00000000e+00 -1.00000000e-01  6.00000000e-01\n",
            "  -2.00000000e-01  5.00000000e-01]] \n",
            "\n",
            "Multiplicamos el segundo renglon por 9/5 y se lo sumamos al primer renglon:\n",
            " [[ 1.00000000e+00  2.07241631e-16 -1.24344979e-16 -2.00000000e+00\n",
            "   1.00000000e+00 -1.00000000e+00]\n",
            " [ 0.00000000e+00  1.66666667e+00 -1.92438658e-16 -5.00000000e+00\n",
            "   1.66666667e+00 -3.33333333e+00]\n",
            " [ 0.00000000e+00  0.00000000e+00 -1.00000000e-01  6.00000000e-01\n",
            "  -2.00000000e-01  5.00000000e-01]] \n",
            "\n",
            "Multiplicamos el segundo renglon por 3/5:\n",
            " [[ 1.00000000e+00  2.07241631e-16 -1.24344979e-16 -2.00000000e+00\n",
            "   1.00000000e+00 -1.00000000e+00]\n",
            " [ 0.00000000e+00  1.00000000e+00 -1.15463195e-16 -3.00000000e+00\n",
            "   1.00000000e+00 -2.00000000e+00]\n",
            " [ 0.00000000e+00  0.00000000e+00 -1.00000000e-01  6.00000000e-01\n",
            "  -2.00000000e-01  5.00000000e-01]] \n",
            "\n",
            "Multiplicamos el tercer renglon por -10:\n",
            " [[ 1.00000000e+00  2.07241631e-16 -1.24344979e-16 -2.00000000e+00\n",
            "   1.00000000e+00 -1.00000000e+00]\n",
            " [ 0.00000000e+00  1.00000000e+00 -1.15463195e-16 -3.00000000e+00\n",
            "   1.00000000e+00 -2.00000000e+00]\n",
            " [ 0.00000000e+00  0.00000000e+00  1.00000000e+00 -6.00000000e+00\n",
            "   2.00000000e+00 -5.00000000e+00]] \n",
            "\n",
            "Matriz inversa de A:\n",
            " [[-2.  1. -1.]\n",
            " [-3.  1. -2.]\n",
            " [-6.  2. -5.]] \n",
            "\n"
          ],
          "name": "stdout"
        }
      ]
    },
    {
      "cell_type": "code",
      "metadata": {
        "colab": {
          "base_uri": "https://localhost:8080/"
        },
        "id": "E2R-40yaONGd",
        "outputId": "b88385aa-04e6-441e-ac71-47f1f1a84cc4"
      },
      "source": [
        "#Una obtenida la matriz inversa, definimos b utilizando la función .reshape()\n",
        "b=np.array([1,5,0]).reshape(3,1)\n",
        "print(b)"
      ],
      "execution_count": null,
      "outputs": [
        {
          "output_type": "stream",
          "text": [
            "[[1]\n",
            " [5]\n",
            " [0]]\n"
          ],
          "name": "stdout"
        }
      ]
    },
    {
      "cell_type": "code",
      "metadata": {
        "colab": {
          "base_uri": "https://localhost:8080/"
        },
        "id": "ZT1jEWn7QRwY",
        "outputId": "4fa93ec3-1bf2-474b-b654-89c64c0876bf"
      },
      "source": [
        "#Ahora calculamos x=A_inv @ b\n",
        "x=A_inv @ b \n",
        "print('La solucion por eliminación Gausseana es:\\n',x,'\\n')\n",
        "#Comparamos con la solución dada por la función scipy.linalg.solve\n",
        "print('Comparamos las soluciones\\n')\n",
        "x_sol=la.solve(A,b)\n",
        "print('La solución dada por scipy.linalg.solve es:\\n',x_sol)"
      ],
      "execution_count": null,
      "outputs": [
        {
          "output_type": "stream",
          "text": [
            "La solucion por eliminación Gausseana es:\n",
            " [[3.]\n",
            " [2.]\n",
            " [4.]] \n",
            "\n",
            "Comparamos las soluciones\n",
            "\n",
            "La solución dada por scipy.linalg.solve es:\n",
            " [[3.]\n",
            " [2.]\n",
            " [4.]]\n"
          ],
          "name": "stdout"
        }
      ]
    },
    {
      "cell_type": "markdown",
      "metadata": {
        "id": "7Q5AXalgRXVp"
      },
      "source": [
        "*   # ***Ejercicio 4.*** \n",
        "Dadas las siguientes matrices $B_1, B_2$ y $B_3$\n",
        "\n",
        "$$\\begin{equation*}\n",
        "B_1=\\begin{bmatrix}\n",
        "2 & 0 & 0\\\\\n",
        "0 & 3 & 4\\\\\n",
        "0 & 4 & 9\\\\\n",
        "\\end{bmatrix}\n",
        "\\end{equation*}$$\n",
        "\\\n",
        "$$\\begin{equation*}\n",
        "B_2=\\begin{bmatrix}\n",
        "0 & 1 & 0\\\\\n",
        "0 & 0 & 1\\\\\n",
        "1 & 0 & 0\\\\\n",
        "\\end{bmatrix}\n",
        "\\end{equation*}$$\n",
        "\\\n",
        "$$\\begin{equation*}\n",
        "B_3 = \\begin{bmatrix}\n",
        "2 & 0 & 0 & 0\\\\\n",
        "1 & 2 & 0 & 0\\\\\n",
        "0 & 1 & 3 & 0\\\\\n",
        "0 & 0 & 1 & 3\\\\\n",
        "\\end{bmatrix}\n",
        "\\end{equation*}$$\n",
        "\\\n",
        "Encuentra los eigenvalores y eigenvectores de cada matriz utilizando la función de scipy.linalg.eig(), y contrasta tus resultados en cada caso con los que se desarrollan en los ejemplos de la Wikipedia.\n"
      ]
    },
    {
      "cell_type": "code",
      "metadata": {
        "id": "RYv0J6TrQ1Vj",
        "colab": {
          "base_uri": "https://localhost:8080/"
        },
        "outputId": "5065cac8-e5bb-487b-bae0-6a17b8cbff0f"
      },
      "source": [
        "#Definimos la cada una de las matrices para despues proceder a calcular sus eingenvectores y eigenvalores\n",
        "\n",
        "#Definimos la Matriz B1\n",
        "B1=np.array([[2,0,0],\n",
        "              [0,3,4],\n",
        "              [0,4,9]])\n",
        "print(\"Matriz B1\\n\",B1)\n",
        "#Definimos los eigenvectores y eingenvalores para B1\n",
        "eigvalsB1, eigvecsB1 = la.eig(B1)\n",
        "print()\n",
        "print('Eigenvalores:', eigvalsB1)\n",
        "print()\n",
        "print('Eigenvectores:\\n')\n",
        "v1 = eigvecsB1[:,0]\n",
        "v2 = eigvecsB1[:,1]\n",
        "v3 = eigvecsB1[:,2]\n",
        "print('v1=',v1)\n",
        "print('v2=',v2)\n",
        "print('v3=',v3)"
      ],
      "execution_count": 3,
      "outputs": [
        {
          "output_type": "stream",
          "text": [
            "Matriz B1\n",
            " [[2 0 0]\n",
            " [0 3 4]\n",
            " [0 4 9]]\n",
            "\n",
            "Eigenvalores: [11.+0.j  1.+0.j  2.+0.j]\n",
            "\n",
            "Eigenvectores:\n",
            "\n",
            "v1= [0.         0.4472136  0.89442719]\n",
            "v2= [ 0.          0.89442719 -0.4472136 ]\n",
            "v3= [1. 0. 0.]\n"
          ],
          "name": "stdout"
        }
      ]
    },
    {
      "cell_type": "code",
      "metadata": {
        "colab": {
          "base_uri": "https://localhost:8080/"
        },
        "id": "xMCTgLJBcheo",
        "outputId": "f6eb5e66-2f8a-4130-e04a-ca50bb477117"
      },
      "source": [
        "#Ahora definimos la Matriz B2\n",
        "B2=np.array([[0,1,0],\n",
        "              [0,0,1],\n",
        "              [1,0,0]])\n",
        "print(\"Matriz B2\\n\",B2)\n",
        "#Definimos los eigenvectores y eingenvalores para B2\n",
        "eigvalsB2, eigvecsB2 = la.eig(B2)\n",
        "print()\n",
        "print('Eigenvalores:', eigvalsB2)\n",
        "print()\n",
        "print('Eigenvectores:\\n')\n",
        "v1 = eigvecsB2[:,0]\n",
        "v2 = eigvecsB2[:,1]\n",
        "v3 = eigvecsB2[:,2]\n",
        "print('v1=',v1)\n",
        "print('v2=',v2)\n",
        "print('v3=',v3)"
      ],
      "execution_count": 4,
      "outputs": [
        {
          "output_type": "stream",
          "text": [
            "Matriz B2\n",
            " [[0 1 0]\n",
            " [0 0 1]\n",
            " [1 0 0]]\n",
            "\n",
            "Eigenvalores: [-0.5+0.8660254j -0.5-0.8660254j  1. +0.j       ]\n",
            "\n",
            "Eigenvectores:\n",
            "\n",
            "v1= [ 0.57735027+0.j  -0.28867513+0.5j -0.28867513-0.5j]\n",
            "v2= [ 0.57735027-0.j  -0.28867513-0.5j -0.28867513+0.5j]\n",
            "v3= [-0.57735027+0.j -0.57735027+0.j -0.57735027+0.j]\n"
          ],
          "name": "stdout"
        }
      ]
    },
    {
      "cell_type": "code",
      "metadata": {
        "colab": {
          "base_uri": "https://localhost:8080/"
        },
        "id": "pIdI8PlRdkaq",
        "outputId": "72380af6-0ce2-4b9b-d54c-7d66d38407c7"
      },
      "source": [
        "#Finalmente, definimos la Matriz B3\n",
        "B3 =np.array([[2,0,0,0],\n",
        "              [1,2,0,0],\n",
        "              [0,1,3,0],\n",
        "              [0,0,1,3]])\n",
        "print(\"Matriz B3\\n\",B3)\n",
        "#Definimos los eigenvectores y eingenvalores para B3\n",
        "eigvalsB3, eigvecsB3 = la.eig(B3)\n",
        "print()\n",
        "print('Eigenvalores:', eigvalsB3)\n",
        "print()\n",
        "print('Eigenvectores:\\n')\n",
        "v1 = eigvecsB3[:,0]\n",
        "v2 = eigvecsB3[:,1]\n",
        "v3 = eigvecsB3[:,2]\n",
        "v4 = eigvecsB3[:,3]\n",
        "print('v1=',v1)\n",
        "print('v2=',v2)\n",
        "print('v3=',v3)\n",
        "print('v4=',v4)"
      ],
      "execution_count": 5,
      "outputs": [
        {
          "output_type": "stream",
          "text": [
            "Matriz B3\n",
            " [[2 0 0 0]\n",
            " [1 2 0 0]\n",
            " [0 1 3 0]\n",
            " [0 0 1 3]]\n",
            "\n",
            "Eigenvalores: [3.+0.j 3.+0.j 2.+0.j 2.+0.j]\n",
            "\n",
            "Eigenvectores:\n",
            "\n",
            "v1= [0. 0. 0. 1.]\n",
            "v2= [ 0.00000000e+00  0.00000000e+00  6.66133815e-16 -1.00000000e+00]\n",
            "v3= [ 0.          0.57735027 -0.57735027  0.57735027]\n",
            "v4= [ 2.56395025e-16 -5.77350269e-01  5.77350269e-01 -5.77350269e-01]\n"
          ],
          "name": "stdout"
        }
      ]
    },
    {
      "cell_type": "code",
      "metadata": {
        "id": "2gOvtr3YeYBW"
      },
      "source": [
        "#Comparando los resultados con los proporcionados por la web (Wikipedia), observamos que son muy parecidos ya que en unos casos son los mismos valores y en otros son multiplos de estos valores"
      ],
      "execution_count": 6,
      "outputs": []
    },
    {
      "cell_type": "markdown",
      "metadata": {
        "id": "lh2ngVHYeu4Z"
      },
      "source": [
        "*   # ***Ejercicio 5.*** \n",
        "Se tienen los siguientes 8 puntos:\n",
        "\n",
        "\n",
        "*   (0.0 , 0.0)\n",
        "*   (0.5 , 0.47942)\n",
        "*   (1.0 , 0.84147)\n",
        "*   (1.5 , 0.99749)\n",
        "*   (2.0 , 0.90930)\n",
        "*   (2.5 , 0.59847)\n",
        "*   (3.0 , 0.14112)\n",
        "*   (3.5 , -0.35078)\n",
        "\n",
        "Encuentre un polinomio interpolante $p(x)$ que pase por los 8 puntos.\n",
        "\n",
        "Sobreponga la función $y=\\sin(x)$ y contrástela con el polinomio $p(x)$."
      ]
    },
    {
      "cell_type": "code",
      "metadata": {
        "colab": {
          "base_uri": "https://localhost:8080/",
          "height": 310
        },
        "id": "7rNZnl3WgjpK",
        "outputId": "3d4986ef-6b50-4157-ffe3-0e158bf67baa"
      },
      "source": [
        "#Definimos los puntos como una Matriz\n",
        "N = np.array([[0.0, 0.0], \n",
        "               [0.5, 0.47942], \n",
        "               [1.0 , 0.84147],\n",
        "               [1.5 , 0.99749],\n",
        "               [2.0 , 0.90930],\n",
        "               [2.5 , 0.59847],\n",
        "               [3.0 , 0.14112],\n",
        "               [3.5 ,-0.35078]])\n",
        "#Definimos las columnas de la Matriz \n",
        "i=0 \n",
        "j=1\n",
        "#Valores de la columna x \n",
        "x=[fila[i] for fila in N]\n",
        "#Valores de la columna y\n",
        "y=[fila[j] for fila in N]\n",
        "x=np.array(x)\n",
        "y=np.array(y)\n",
        "#Graficamos los puntos aleatorios con ('r.')\n",
        "plt.plot(x,y,'r.')\n",
        "plt.grid()\n",
        "plt.title('Puntos aleatorios que deseamos interpolar\\n')\n",
        "plt.xlabel('x')\n",
        "plt.ylabel('y')\n",
        "plt.show()"
      ],
      "execution_count": 3,
      "outputs": [
        {
          "output_type": "display_data",
          "data": {
            "image/png": "[encoded data removed]",
            "text/plain": [
              "<Figure size 432x288 with 1 Axes>"
            ]
          },
          "metadata": {
            "tags": [],
            "needs_background": "light"
          }
        }
      ]
    },
    {
      "cell_type": "code",
      "metadata": {
        "colab": {
          "base_uri": "https://localhost:8080/"
        },
        "id": "mcPsjz9lYBPR",
        "outputId": "0d8b17eb-c54c-4c34-aa62-2938a58c4c9a"
      },
      "source": [
        "#Creamos la matriz de Vandermonde\n",
        "X=np.vander(x,increasing=True)\n",
        "#Imprimimos los primeros 5 renglones y columnas.\n",
        "print(X[:5,:5])"
      ],
      "execution_count": 4,
      "outputs": [
        {
          "output_type": "stream",
          "text": [
            "[[ 1.      0.      0.      0.      0.    ]\n",
            " [ 1.      0.5     0.25    0.125   0.0625]\n",
            " [ 1.      1.      1.      1.      1.    ]\n",
            " [ 1.      1.5     2.25    3.375   5.0625]\n",
            " [ 1.      2.      4.      8.     16.    ]]\n"
          ],
          "name": "stdout"
        }
      ]
    },
    {
      "cell_type": "code",
      "metadata": {
        "colab": {
          "base_uri": "https://localhost:8080/"
        },
        "id": "9keAsaJkeect",
        "outputId": "b659e6a4-439c-42ac-e226-afa4c6fc5365"
      },
      "source": [
        "#Resolvemos la ecuacion para encontrar los 8 coeficientes\n",
        "a=la.solve(X,y)\n",
        "print(a)"
      ],
      "execution_count": 5,
      "outputs": [
        {
          "output_type": "stream",
          "text": [
            "[ 0.00000000e+00  1.00067181e+00 -3.70788889e-03 -1.58867889e-01\n",
            " -8.30222222e-03  1.31964444e-02 -1.54488889e-03  2.46349206e-05]\n"
          ],
          "name": "stdout"
        }
      ]
    },
    {
      "cell_type": "code",
      "metadata": {
        "colab": {
          "base_uri": "https://localhost:8080/",
          "height": 295
        },
        "id": "a8AuDwClexxd",
        "outputId": "c08606a1-5bfa-4778-ccf2-1953c8ef77f1"
      },
      "source": [
        "#Graficamos el polinomio interpolante y los puntos interpolados en rojo ('r.')\n",
        "xs=np.linspace(0,8-1,200)\n",
        "ys=sum([a[k]*xs**k for k in range(0,8)])\n",
        "plt.plot(x,y,'r.',xs,ys);\n",
        "plt.plot(x,np.sin(x),\"g\")\n",
        "plt.grid()\n",
        "plt.title('Polinomio interpolante p(x)')\n",
        "plt.xlabel('x')\n",
        "plt.ylabel('y')\n",
        "plt.show()"
      ],
      "execution_count": 6,
      "outputs": [
        {
          "output_type": "display_data",
          "data": {
            "image/png": "[encoded data removed]",
            "text/plain": [
              "<Figure size 432x288 with 1 Axes>"
            ]
          },
          "metadata": {
            "tags": [],
            "needs_background": "light"
          }
        }
      ]
    },
    {
      "cell_type": "code",
      "metadata": {
        "colab": {
          "base_uri": "https://localhost:8080/",
          "height": 295
        },
        "id": "13pL9sqjfIcB",
        "outputId": "55a2714c-84fa-44c6-98a9-ec76fed9fdfc"
      },
      "source": [
        "xs=np.linspace(0,8-1,200)\n",
        "ys=sum([a[k]*xs**k for k in range(0,8)])\n",
        "xc=np.sin(xs)\n",
        "plt.plot(x,y,'r.',xs,ys)\n",
        "plt.grid()\n",
        "plt.plot(xs,xc,'g')\n",
        "plt.title('Polinomio interpolante sen(x)')\n",
        "plt.xlabel('x')\n",
        "plt.ylabel('y')\n",
        "plt.show()"
      ],
      "execution_count": 9,
      "outputs": [
        {
          "output_type": "display_data",
          "data": {
            "image/png": "[encoded data removed]",
            "text/plain": [
              "<Figure size 432x288 with 1 Axes>"
            ]
          },
          "metadata": {
            "tags": [],
            "needs_background": "light"
          }
        }
      ]
    },
    {
      "cell_type": "markdown",
      "metadata": {
        "id": "ezFUD6NcgXG_"
      },
      "source": [
        "*   # ***Ejercicio 6.*** \n",
        "Regrese a su modelo de análisis de series de tiempo. Haga una descomposición de su serie de tiempo de las temperaturas (Tmax y Tmin), y realice una regresión lineal sobre la serie de Tendencia de Temp $(T = a_0 + a_1 t)$. Encuentre si la pendiente es positiva o negativa de la tendencia (signo de $a_1$), es decir si las Temperaturas (Tmax, Tmin) están subiendo o bajando en el periodo analizado.\n",
        "\n",
        "**NOTA:** Pueden trabajar en sus Notebooks de la Actividad 5 o 6 y hacer el ajuste de regresión lineal allá donde tienen todo cargado en la memoria y luego copiar unas celdas de texto de esa Notebook y agregarlas al final de su Notebook de la Actividad 7. Así no tienen que cargar a la memoria todas las operaciones."
      ]
    },
    {
      "cell_type": "code",
      "metadata": {
        "colab": {
          "base_uri": "https://localhost:8080/"
        },
        "id": "XEm29hJPgq3j",
        "outputId": "8134876e-40db-4340-8011-6e31c65ffe9e"
      },
      "source": [
        "#------------------------------------------------RETOMAMOS NUESTRO DATAFRAME DE LA ACTIVIDAD PASADA-------------------------------------------------------------------------------------\n",
        "\n",
        "#Definimos como la direccion url donde se ubica nuestro archivo\n",
        "url=\"https://raw.githubusercontent.com/GerardoxCarreon/FisicaComputacional1/master/Actividad3/Copia%20de%20Climatologia%20diaria_La%20Paz.txt\"\n",
        "\n",
        "#Definimos manualmente los nombres para nuestras columnas mediante la función my_cols\n",
        "my_cols=[ 'Fecha' , 'Precip' , 'Evap' , 'Tempmax' , 'Tempmin' ]\n",
        "#Definimos nuestro archivo como un csv con parametros para poder leerlo como Dataframe \n",
        "df_clim = pd.read_csv(url, names=my_cols, encoding='cp1252', sep='\\s+', header=None, skiprows=19, skipfooter=1, skip_blank_lines=True, engine='python')\n",
        "\n",
        "#Realizamos una copia del primer DataFrame \n",
        "df_cop=df_clim.copy()\n",
        "\n",
        "#Sustituimos los valores marcados como Nulo en el DataFrame por espacios en blanco\n",
        "#Para esto deberemos sustituir la copia del primer DataFrame por otra copia\n",
        "str_Nulo = 'Nulo'\n",
        "df_cop2 = df_cop.replace(to_replace=str_Nulo, value='', regex=True)\n",
        "\n",
        "#Ahora convertiremos todos los valores numericos que el DataFrame almaceno como objetos a numeros flotantes\n",
        "#Los datos que se convertiran en numeros flotantes seran los que se encuentran en las columnas de Precipitacion, Evaporacion, Tempmax y Tempmin\n",
        "cols_list=['Precip', 'Evap', 'Tempmax', 'Tempmin']\n",
        "for cols in cols_list:\n",
        "  df_cop2[cols]=pd.to_numeric(df_cop2[cols], errors='coerce')\n",
        "\n",
        "#Nuevamente realizamos una copia del ultimo DataFrame\n",
        "df_cop3=df_cop2.copy()\n",
        "\n",
        "#Ahora convertiremos la informacion almacenada en la columna de Fecha del DataFrame de objeto a formato datetime\n",
        "#Utilizamos la función pd.to_datetime que convierte la fecha en datetime \n",
        "#Definimos que la fecha este ordenada por dia, mes, año\n",
        "df_cop3['Fecha']=pd.to_datetime(df_cop3['Fecha'], dayfirst=True).copy()\n",
        "\n",
        "#Creamos dos nuevas columnas para el DataFrame las cuales contendran el Mes y Año de los datos, para esto extraeremos estos valores de la recien creada columna de Fecha\n",
        "#Usaremos la función .dt.year y .dt.month para extraer el Año y Mes de la Fecha\n",
        "df_cop3['Año'] = df_cop3['Fecha'].dt.year\n",
        "df_cop3['Mes'] = df_cop3['Fecha'].dt.strftime('%b')\n",
        "\n",
        "#Nuevamente realizamos una copia del ultimo DataFrame\n",
        "df_cop4=df_cop3.copy()\n",
        "\n",
        "#En este paso, convertiremos la columna de Mes de variable numerica a variable categorica con la función .dt.strftime('%b'), esto con la finalidad de poder utilizar estas variables como etiquetas en una posible gráfica de datos\n",
        "df_cop4.drop('Mes', axis=1, inplace=True)\n",
        "df_cop4['Mes'] = df_cop3['Fecha'].dt.strftime('%b')\n",
        "\n",
        "#Nuevamente realizamos una copia del ultimo DataFrame\n",
        "df_cop5_ts=df_cop4.copy()\n",
        "#Hacemos que la variable 'Fecha' sea el nuevo indice de nuestro DataFrame\n",
        "df_cop5_ts=df_cop5_ts.set_index('Fecha')\n",
        "#Comprobamos que se haya cambiado el indice\n",
        "print('INFORMACION DE DATAFRAME\\n')\n",
        "df_cop5_ts.info()\n",
        "print('')\n",
        "print('ENCABEZADO DE DATAFRAME\\n')\n",
        "print(df_cop5_ts.head())\n",
        "print('')\n",
        "print('PIE DE DATAFRAME\\n')\n",
        "print(df_cop5_ts.tail())\n",
        "#------------------------------------------------------FIN DE NUESTRO DATAFRAME DE LA ACTIVIDAD PASADA-------------------------------------------------------------------------------------"
      ],
      "execution_count": 67,
      "outputs": [
        {
          "output_type": "stream",
          "text": [
            "INFORMACION DE DATAFRAME\n",
            "\n",
            "<class 'pandas.core.frame.DataFrame'>\n",
            "DatetimeIndex: 18661 entries, 1961-04-18 to 2017-12-31\n",
            "Data columns (total 6 columns):\n",
            " #   Column   Non-Null Count  Dtype  \n",
            "---  ------   --------------  -----  \n",
            " 0   Precip   18659 non-null  float64\n",
            " 1   Evap     1238 non-null   float64\n",
            " 2   Tempmax  18658 non-null  float64\n",
            " 3   Tempmin  18657 non-null  float64\n",
            " 4   Año      18661 non-null  int64  \n",
            " 5   Mes      18661 non-null  object \n",
            "dtypes: float64(4), int64(1), object(1)\n",
            "memory usage: 1020.5+ KB\n",
            "\n",
            "ENCABEZADO DE DATAFRAME\n",
            "\n",
            "            Precip  Evap  Tempmax  Tempmin   Año  Mes\n",
            "Fecha                                                \n",
            "1961-04-18     0.0   NaN     33.0      NaN  1961  Apr\n",
            "1961-04-19     0.0   NaN     31.0     12.5  1961  Apr\n",
            "1961-04-20     0.0   NaN     31.0     12.0  1961  Apr\n",
            "1961-04-21     0.0   NaN     33.0     16.0  1961  Apr\n",
            "1961-04-22     0.0   NaN     36.0     16.0  1961  Apr\n",
            "\n",
            "PIE DE DATAFRAME\n",
            "\n",
            "            Precip  Evap  Tempmax  Tempmin   Año  Mes\n",
            "Fecha                                                \n",
            "2017-12-27     0.0   NaN     25.0     13.0  2017  Dec\n",
            "2017-12-28     0.0   NaN     27.0     13.0  2017  Dec\n",
            "2017-12-29     0.0   NaN     27.0     16.0  2017  Dec\n",
            "2017-12-30     0.0   NaN     29.0     13.0  2017  Dec\n",
            "2017-12-31     0.0   NaN     29.0     16.0  2017  Dec\n"
          ],
          "name": "stdout"
        }
      ]
    },
    {
      "cell_type": "code",
      "metadata": {
        "id": "40JQ862it-iq"
      },
      "source": [
        "#Funcion que convierte la fecha a decimal\n",
        "from datetime import datetime as dt\n",
        "import time\n",
        "\n",
        "def toYearFraction(date):\n",
        "    def sinceEpoch(date): # returns seconds since epoch\n",
        "        return time.mktime(date.timetuple())\n",
        "    s = sinceEpoch\n",
        "\n",
        "    year = date.year\n",
        "    startOfThisYear = dt(year=year, month=1, day=1)\n",
        "    startOfNextYear = dt(year=year+1, month=1, day=1)\n",
        "\n",
        "    yearElapsed = s(date) - s(startOfThisYear)\n",
        "    yearDuration = s(startOfNextYear) - s(startOfThisYear)\n",
        "    fraction = yearElapsed/yearDuration\n",
        "\n",
        "    return date.year + fraction"
      ],
      "execution_count": 58,
      "outputs": []
    },
    {
      "cell_type": "code",
      "metadata": {
        "colab": {
          "base_uri": "https://localhost:8080/",
          "height": 204
        },
        "id": "eS0j_LS5uIA7",
        "outputId": "add44f36-3495-4e31-a9a8-1c2a36bea9f8"
      },
      "source": [
        "#Definimos un nuevo DataFrame que es con el que se va a trabajar\n",
        "df_tm=df_cop4\n",
        "df_tm.head()\n",
        "#Eliminamos las columnas que nos son necesarias para este caso\n",
        "del(df_tm['Precip'],df_tm['Evap'],df_tm['Año'],df_tm['Mes'])\n",
        "#Imprimimos el encabezado del DataFrame\n",
        "df_tm.head()"
      ],
      "execution_count": 69,
      "outputs": [
        {
          "output_type": "execute_result",
          "data": {
            "text/html": [
              "<div>\n",
              "<style scoped>\n",
              "    .dataframe tbody tr th:only-of-type {\n",
              "        vertical-align: middle;\n",
              "    }\n",
              "\n",
              "    .dataframe tbody tr th {\n",
              "        vertical-align: top;\n",
              "    }\n",
              "\n",
              "    .dataframe thead th {\n",
              "        text-align: right;\n",
              "    }\n",
              "</style>\n",
              "<table border=\"1\" class=\"dataframe\">\n",
              "  <thead>\n",
              "    <tr style=\"text-align: right;\">\n",
              "      <th></th>\n",
              "      <th>Fecha</th>\n",
              "      <th>Tempmax</th>\n",
              "      <th>Tempmin</th>\n",
              "    </tr>\n",
              "  </thead>\n",
              "  <tbody>\n",
              "    <tr>\n",
              "      <th>0</th>\n",
              "      <td>1961-04-18</td>\n",
              "      <td>33.0</td>\n",
              "      <td>NaN</td>\n",
              "    </tr>\n",
              "    <tr>\n",
              "      <th>1</th>\n",
              "      <td>1961-04-19</td>\n",
              "      <td>31.0</td>\n",
              "      <td>12.5</td>\n",
              "    </tr>\n",
              "    <tr>\n",
              "      <th>2</th>\n",
              "      <td>1961-04-20</td>\n",
              "      <td>31.0</td>\n",
              "      <td>12.0</td>\n",
              "    </tr>\n",
              "    <tr>\n",
              "      <th>3</th>\n",
              "      <td>1961-04-21</td>\n",
              "      <td>33.0</td>\n",
              "      <td>16.0</td>\n",
              "    </tr>\n",
              "    <tr>\n",
              "      <th>4</th>\n",
              "      <td>1961-04-22</td>\n",
              "      <td>36.0</td>\n",
              "      <td>16.0</td>\n",
              "    </tr>\n",
              "  </tbody>\n",
              "</table>\n",
              "</div>"
            ],
            "text/plain": [
              "       Fecha  Tempmax  Tempmin\n",
              "0 1961-04-18     33.0      NaN\n",
              "1 1961-04-19     31.0     12.5\n",
              "2 1961-04-20     31.0     12.0\n",
              "3 1961-04-21     33.0     16.0\n",
              "4 1961-04-22     36.0     16.0"
            ]
          },
          "metadata": {
            "tags": []
          },
          "execution_count": 69
        }
      ]
    },
    {
      "cell_type": "code",
      "metadata": {
        "colab": {
          "base_uri": "https://localhost:8080/"
        },
        "id": "V5T9vwqFuY7Y",
        "outputId": "51227411-4574-4f63-a6d1-a7c854032044"
      },
      "source": [
        "#Definimos la longitud del DataFrame\n",
        "N=len(df_tm) \n",
        "\n",
        "df_tm['FechaDecimal']=df_tm['Tempmax']\n",
        "print(df_tm)\n",
        "\n",
        "for o in range(N): \n",
        "  \n",
        "  df_tm['FechaDecimal'].iloc[o]=toYearFraction(df_tm['Fecha'].iloc[o])\n",
        "\n",
        "del(df_tm['Fecha']) \n",
        "\n",
        "print(df_tm)"
      ],
      "execution_count": 41,
      "outputs": [
        {
          "output_type": "stream",
          "text": [
            "           Fecha  Tempmax  Tempmin  FechaDecimal\n",
            "0     1961-04-18     33.0      NaN          33.0\n",
            "1     1961-04-19     31.0     12.5          31.0\n",
            "2     1961-04-20     31.0     12.0          31.0\n",
            "3     1961-04-21     33.0     16.0          33.0\n",
            "4     1961-04-22     36.0     16.0          36.0\n",
            "...          ...      ...      ...           ...\n",
            "18656 2017-12-27     25.0     13.0          25.0\n",
            "18657 2017-12-28     27.0     13.0          27.0\n",
            "18658 2017-12-29     27.0     16.0          27.0\n",
            "18659 2017-12-30     29.0     13.0          29.0\n",
            "18660 2017-12-31     29.0     16.0          29.0\n",
            "\n",
            "[18661 rows x 4 columns]\n"
          ],
          "name": "stdout"
        },
        {
          "output_type": "stream",
          "text": [
            "/usr/local/lib/python3.7/dist-packages/pandas/core/indexing.py:670: SettingWithCopyWarning: \n",
            "A value is trying to be set on a copy of a slice from a DataFrame\n",
            "\n",
            "See the caveats in the documentation: https://pandas.pydata.org/pandas-docs/stable/user_guide/indexing.html#returning-a-view-versus-a-copy\n",
            "  iloc._setitem_with_indexer(indexer, value)\n"
          ],
          "name": "stderr"
        },
        {
          "output_type": "stream",
          "text": [
            "       Tempmax  Tempmin  FechaDecimal\n",
            "0         33.0      NaN   1961.293151\n",
            "1         31.0     12.5   1961.295890\n",
            "2         31.0     12.0   1961.298630\n",
            "3         33.0     16.0   1961.301370\n",
            "4         36.0     16.0   1961.304110\n",
            "...        ...      ...           ...\n",
            "18656     25.0     13.0   2017.986301\n",
            "18657     27.0     13.0   2017.989041\n",
            "18658     27.0     16.0   2017.991781\n",
            "18659     29.0     13.0   2017.994521\n",
            "18660     29.0     16.0   2017.997260\n",
            "\n",
            "[18661 rows x 3 columns]\n"
          ],
          "name": "stdout"
        }
      ]
    },
    {
      "cell_type": "code",
      "metadata": {
        "colab": {
          "base_uri": "https://localhost:8080/"
        },
        "id": "uUfu3R-nuoK5",
        "outputId": "ddcd57ce-24cd-4f7b-f228-e91d16d24973"
      },
      "source": [
        "#Construimos la Matriz de Vandermonde\n",
        "x=df_tm['FechaDecimal']\n",
        "X=np.column_stack([np.ones(N),x])\n",
        "print('Shape:', X.shape)"
      ],
      "execution_count": 42,
      "outputs": [
        {
          "output_type": "stream",
          "text": [
            "Shape: (18661, 2)\n"
          ],
          "name": "stdout"
        }
      ]
    },
    {
      "cell_type": "code",
      "metadata": {
        "id": "1HgW0ehGuryK"
      },
      "source": [
        "df_tm.isnull().sum()\n",
        "df_tm.fillna(df_tm.mean(), inplace=True)"
      ],
      "execution_count": 43,
      "outputs": []
    },
    {
      "cell_type": "code",
      "metadata": {
        "id": "heMTD8zVutxq"
      },
      "source": [
        "\n",
        "ymax=np.array(df_tm['Tempmax'])\n",
        "ymin=np.array(df_tm['Tempmin'])"
      ],
      "execution_count": 44,
      "outputs": []
    },
    {
      "cell_type": "code",
      "metadata": {
        "colab": {
          "base_uri": "https://localhost:8080/"
        },
        "id": "MCMrCSkXuyOh",
        "outputId": "ce9f76fb-bc9d-4581-d3cc-da5a03dc7ac6"
      },
      "source": [
        "#Usamos la función scipy.linalg.solve() para resolver la ecuación X.T@X@a = X.T@y \n",
        "amax = la.solve(X.T @ X, X.T @ ymax)\n",
        "amin = la.solve(X.T @ X, X.T @ ymin)\n",
        "print('Para Tmax')\n",
        "print(amax)\n",
        "print('Para Tmin')\n",
        "print(amin)"
      ],
      "execution_count": 45,
      "outputs": [
        {
          "output_type": "stream",
          "text": [
            "Para Tmax\n",
            "[-4.04779505e+01  3.53455317e-02]\n",
            "Para Tmin\n",
            "[-3.80983607e+01  2.60904946e-02]\n"
          ],
          "name": "stdout"
        }
      ]
    },
    {
      "cell_type": "code",
      "metadata": {
        "colab": {
          "base_uri": "https://localhost:8080/"
        },
        "id": "6cQNoyqj1jvq",
        "outputId": "0c7197ca-7b02-41c7-d154-7a11ec9aa04e"
      },
      "source": [
        "#Obtuvimos que a0 y a1 de la Temperatura Máxima son:\n",
        "print('Para la Temperatura Máxima:\\n')\n",
        "print('a0≈ -40.4779505\\n','a1≈ 0.0353455317\\n')\n",
        "print('Para la Temperatura Minima:\\n')\n",
        "print('a0≈ -38.0983607\\n','a1 ≈0.0260904946\\n')"
      ],
      "execution_count": 55,
      "outputs": [
        {
          "output_type": "stream",
          "text": [
            "Para la Temperatura Máxima:\n",
            "\n",
            "a0≈ -40.4779505\n",
            " a1≈ 0.0353455317\n",
            "\n",
            "Para la Temperatura Minima:\n",
            "\n",
            "a0≈ -38.0983607\n",
            " a1 ≈0.0260904946\n",
            "\n"
          ],
          "name": "stdout"
        }
      ]
    },
    {
      "cell_type": "code",
      "metadata": {
        "colab": {
          "base_uri": "https://localhost:8080/"
        },
        "id": "MobotLZ63RU0",
        "outputId": "13c69d19-e0c6-4178-c134-bde191823ce8"
      },
      "source": [
        "#Obteniendo las aproximaciones lineales para cada temperatura tenemos:\n",
        "print('TMax= -40.4779505+0.0353455317t\\n')\n",
        "print('Tmin= -38.0983607+0.0260904946t\\n')\n",
        "#Concluyendo asi que durante el periodo analizado, la temperatura máxima aumento y la temperatura minima tambien\n",
        "print('Ambas temperaturas sufrieron un aumento en sus valores en el periodo analizado')"
      ],
      "execution_count": 56,
      "outputs": [
        {
          "output_type": "stream",
          "text": [
            "TMax= -40.4779505+0.0353455317t\n",
            "\n",
            "Tmin= -38.0983607+0.0260904946t\n",
            "\n",
            "Ambas temperaturas sufrieron un aumento en sus valores en el periodo analizado\n"
          ],
          "name": "stdout"
        }
      ]
    },
    {
      "cell_type": "code",
      "metadata": {
        "id": "aOVhnbF74SgP"
      },
      "source": [
        ""
      ],
      "execution_count": null,
      "outputs": []
    }
  ]
}