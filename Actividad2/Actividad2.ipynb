{
  "nbformat": 4,
  "nbformat_minor": 0,
  "metadata": {
    "colab": {
      "name": "Actividad2.ipynb",
      "provenance": [],
      "collapsed_sections": [],
      "authorship_tag": "ABX9TyM9HGvHsEgBmBO5tqlOqiZY",
      "include_colab_link": true
    },
    "kernelspec": {
      "name": "python3",
      "display_name": "Python 3"
    }
  },
  "cells": [
    {
      "cell_type": "markdown",
      "metadata": {
        "id": "view-in-github",
        "colab_type": "text"
      },
      "source": [
        "<a href=\"https://colab.research.google.com/github/GerardoxCarreon/FisicaComputacional1/blob/master/Actividad2/Actividad2.ipynb\" target=\"_parent\"><img src=\"https://colab.research.google.com/assets/colab-badge.svg\" alt=\"Open In Colab\"/></a>"
      ]
    },
    {
      "cell_type": "code",
      "metadata": {
        "id": "sSCMZIKJ4flL"
      },
      "source": [
        ""
      ],
      "execution_count": null,
      "outputs": []
    },
    {
      "cell_type": "markdown",
      "metadata": {
        "id": "QmT7GmYd4oH6"
      },
      "source": [
        "# ***Actividad 2***\n",
        "\"Primer programa de Python\" \n",
        "\n",
        "---\n",
        "\n",
        "\n",
        "\n"
      ]
    },
    {
      "cell_type": "markdown",
      "metadata": {
        "id": "SaIoL2QC8kun"
      },
      "source": [
        "Esta es la actividad 2 de física computacional, durante esta se llevaran a cabo prácticas para reforzar los conocimientos recientemente aprendidos en el curso acerca de las herramientas de Júpiter Notebooks y Python.\n",
        "\n",
        "Se realizarán cuatro sencillos ejercicios en los que se programaran cuatro programas en Python, en el primer ejercicio se calculará el área de un círculo y una elipse además de calcular el volumen de una esfera y un cilindro circular, en el segundo ejercicio se calcularán las raíces de una ecuación cuadrática, en el tercero se implementara el uso del método Babilonio para calcular la raíz de un número \"S\". Y finalmente, en el ultimo ejercicio se realizara la gráfica de una función determinada.\n"
      ]
    },
    {
      "cell_type": "markdown",
      "metadata": {
        "id": "wQlgSfvVADws"
      },
      "source": [
        "*   ***Ejemplo*** de lo que se realizara en la actividad.\n",
        "\n",
        "\n",
        "\n",
        "\n",
        "\n"
      ]
    },
    {
      "cell_type": "code",
      "metadata": {
        "colab": {
          "base_uri": "https://localhost:8080/"
        },
        "id": "lm2saIBO5nNp",
        "outputId": "ab4c62f6-0265-4d28-f23d-ca4b659b4d1c"
      },
      "source": [
        "# Se utiliza el símbolo # para hacer comentarios.\n",
        "# Se define una función de 2 variables para calcular el área.  \n",
        "def area(x, y):\n",
        "    return x*y\n",
        "\n",
        "print(\"Por favor introduce el largo del rectángulo: \", end=\"\")\n",
        "l = float(input())\n",
        "print(\"Por favor introduce el ancho del rectángulo: \", end=\"\")\n",
        "w = float(input())\n",
        "a = area(l, w)\n",
        "# Imprime el valor del área en formato libre.\n",
        "print(\"\\nArea = \", a)\n",
        "# Imprime el valor del área con 2 decimales. \n",
        "print(\"\\nArea = {:.2f}\".format(a))"
      ],
      "execution_count": null,
      "outputs": [
        {
          "output_type": "stream",
          "text": [
            "Por favor introduce el largo del rectángulo: 10\n",
            "Por favor introduce el ancho del rectángulo: 15\n",
            "\n",
            "Area =  150.0\n",
            "\n",
            "Area = 150.00\n"
          ],
          "name": "stdout"
        }
      ]
    },
    {
      "cell_type": "markdown",
      "metadata": {
        "id": "PmZaA4nrAgVS"
      },
      "source": [
        "*   # ***Ejercicio 1.***\n",
        "\n",
        "\n",
        "\n",
        "\n",
        "\n"
      ]
    },
    {
      "cell_type": "markdown",
      "metadata": {
        "id": "okFsLHz7qkDY"
      },
      "source": [
        "Realizar un programa que implemente las funciones de area y volumen además de utilizar las estructura \"if\" para calcular : Area de Círculo y Elipse, Volumen de Cilindro Circular y Esfera."
      ]
    },
    {
      "cell_type": "code",
      "metadata": {
        "id": "68UniSUxA1gZ",
        "colab": {
          "base_uri": "https://localhost:8080/"
        },
        "outputId": "2a8ff982-7569-475f-87ce-793fdc5e925c"
      },
      "source": [
        "#Código para calcular el area o volumen de una circunferencia y de una elipse dadas las medidas de sus componentes.\n",
        "#Aqui introducimos las bibliotecas a utilizar\n",
        "#1. Biblioteca numpy\n",
        "import numpy as np\n",
        "\n",
        "#Se define la función de area y la de volumen.\n",
        "def volumen(x,y,z):\n",
        "  return x*y*z\n",
        "def area(x,y):\n",
        "  return x*y\n",
        "\n",
        "#Primero se le explica brevemente al usuario de que trata este programa.\n",
        "print(\"Este programa sirve para calcular el area de una circunferencia y elpise o volumen de una esfera y cilindro circular dados sus componentes\")\n",
        "print(\"Elije que es lo que deseas calcular\")\n",
        "print(\"1.Area\")\n",
        "print(\"2.Volumen\")\n",
        "o=float(input())\n",
        "x=1\n",
        "y=2\n",
        "if o==x:\n",
        " #Se desarrolla el programa para calcular areas\n",
        " print(\"Usted elijio calcular area\")\n",
        " print(\"\\nElije la figura de la cual deseas calcular su area\")\n",
        " print(\"\\n1.Circunferencia\")\n",
        " print(\"\\n2.Elipse\")\n",
        " p=float(input())\n",
        " u=1\n",
        " v=2\n",
        " if p==u:\n",
        "  #Se desarrolla el programa para calcular el area de la circunferencia\n",
        "  print(\"Muy bien se calculara el area de una circunferencia, introduce el valor de su radio\")\n",
        "  r=float(input())\n",
        "  a=area((np.pi),(r**2))\n",
        "  print(\"\\nArea=\",a)\n",
        " elif p==v:\n",
        "  #Se desarrolla el programa para calcular el area de la elipse.\n",
        "  print(\"Muy bien se calculara el area de una elipse, introduce el valor de su semieje mayor y su semieje menor\")\n",
        "  m=float(input())\n",
        "  n=float(input())\n",
        "  a=(np.pi)*(m)*(n)\n",
        "  print(\"\\nArea=\",a)\n",
        "#Se finaliza la sección de codigo para calcular areas.\n",
        "elif o==y:\n",
        "  #Se desarrolla el programa para calcular volumen\n",
        "  print(\"Usted elijio calcular volumen\")\n",
        "  print(\"\\nElije la figura de la cual deseas calcular su volumen\")\n",
        "  print(\"\\n1.Cilindro circular\")\n",
        "  print(\"\\n2.Esfera\")\n",
        "  k=float(input())\n",
        "  g=1\n",
        "  f=2\n",
        "  if k==g:\n",
        "    #Se desarrolla el programa para calcular el volumen de un cilindro circular\n",
        "    print(\"Muy bien se calculara el volumen de un cilindro circular, introduce el valor de su radio: \")\n",
        "    r=float(input())\n",
        "    print(\"Y de su altura:\")\n",
        "    h=float(input())\n",
        "    v=volumen((np.pi),(r**2),(h))\n",
        "    print(\"\\nVolumen=\",v)\n",
        "  elif k==f:\n",
        "    #Se desarrolla el programa para calcular el volumen de una esfera\n",
        "    print(\"Muy bien se calculara el volumen de una esfera, introduce el valor de su radio\")\n",
        "    r=float(input())\n",
        "    v=((4/3)*(np.pi))*(r**3)\n",
        "    print(\"\\nVolumen=\",v)\n",
        "#Se finaliza la sección del codigo para calcular volumenes\n",
        "#Se finaliza el codigo "
      ],
      "execution_count": null,
      "outputs": [
        {
          "output_type": "stream",
          "text": [
            "Este programa sirve para calcular el area de una circunferencia y elpise o volumen de una esfera y cilindro circular dados sus componentes\n",
            "Elije que es lo que deseas calcular\n",
            "1.Area\n",
            "2.Volumen\n",
            "1\n",
            "Usted elijio calcular area\n",
            "\n",
            "Elije la figura de la cual deseas calcular su area\n",
            "\n",
            "1.Circunferencia\n",
            "\n",
            "2.Elipse\n",
            "1\n",
            "Muy bien se calculara el area de una circunferencia, introduce el valor de su radio\n",
            "4\n",
            "\n",
            "Area= 50.26548245743669\n"
          ],
          "name": "stdout"
        }
      ]
    },
    {
      "cell_type": "markdown",
      "metadata": {
        "id": "klCoJhdwKZRT"
      },
      "source": [
        "*   # ***Ejercicio 2.***"
      ]
    },
    {
      "cell_type": "markdown",
      "metadata": {
        "id": "bWBOpV08vp75"
      },
      "source": [
        "Desarrollar un programa en Python que calcule las raíces de una ecuación cuadratica."
      ]
    },
    {
      "cell_type": "code",
      "metadata": {
        "colab": {
          "base_uri": "https://localhost:8080/"
        },
        "id": "lxupEta1y2vz",
        "outputId": "78ed5440-984e-424c-d01d-aba947df1bad"
      },
      "source": [
        "#El proposito principal de este programa es el de solucionar una ecuacion cuadratica dados los coeficientes de dicha ecuacion de manera arbitraria, las soluciones de estas ecuaciones seran dadas por la formula general, teniendo en cuenta solo las soluciones reales e ignorando las soluciones complejas\n",
        "#Aqui introducimos las bibliotecas a utilizar\n",
        "#1. Biblioteca numpy\n",
        "import numpy as np\n",
        "\n",
        "#Breve descripcion de lo que hace el programa\n",
        "print(\"Este programa esta diseñado para calcular las soluciones reales de una ecuacion cuadratica\")\n",
        "print(\"\\nusando coeficientes arbitrarios, establecidos por el usuario\")\n",
        "print(\"\\nForma generel de las ecuaciones cuadraticas: (ax**2)+bx+c\")\n",
        "\n",
        "#Solicitar los coeficientes reales de la variables\n",
        "print(\"\\nIntroduce el valor de los coeficientes a,b y c de la ecuacion cuadratica\")\n",
        "a=float(input())\n",
        "b=float(input())\n",
        "c=float(input())\n",
        "print(\"Calculando....\")\n",
        "\n",
        "#Calculamos el discriminante\n",
        "d=(b**2)-4*a*c\n",
        "#Imprimimos el valor del discriminante al usuario\n",
        "print(\"Discriminante:\",d)\n",
        "\n",
        "#Agragamos una estructura \"if\" para restringir el calculo a solo raices reales\n",
        "if d < 0: \n",
        "  print(\"Las soluciones para esta ecuación no son reales, porfavor introduce una nueva ecuación\")\n",
        "  else\n",
        "   #Resolver la ecuacion cuadratica con la formula general\n",
        "   x1=(-b+(np.sqrt((b**2)-4*a*c)))/(2*a)\n",
        "   x2=(-b-(np.sqrt((b**2)-4*a*c)))/(2*a)\n",
        "   #Imprimir soluciones reales\n",
        "   print(\"x1=\",x1,\",\",\"x2=\",x2) \n",
        "   #Fin del codigo"
      ],
      "execution_count": null,
      "outputs": [
        {
          "output_type": "stream",
          "text": [
            "Este programa esta diseñado para calcular las soluciones reales de una ecuacion cuadratica\n",
            "\n",
            "usando coeficientes arbitrarios, establecidos por el usuario\n",
            "\n",
            "Forma generel de las ecuaciones cuadraticas: (ax**2)+bx+c\n",
            "\n",
            "Introduce el valor de los coeficientes a,b y c de la ecuacion cuadratica\n",
            "1\n",
            "3\n",
            "2\n",
            "Calculando....\n",
            "x1= -1.0 x2= -2.0\n"
          ],
          "name": "stdout"
        }
      ]
    },
    {
      "cell_type": "markdown",
      "metadata": {
        "id": "qtzq73oY2eg4"
      },
      "source": [
        "*   # ***Ejercicio 3.***"
      ]
    },
    {
      "cell_type": "markdown",
      "metadata": {
        "id": "gBWug-HJ3SkY"
      },
      "source": [
        "Implementar el método Babilonio para calcular la raíz cuadrada de un número \"S\", cuando la sucesión converja con un error menor a 0.01. Comparar el valor obtenido por el método Babilonio con el de la función np.sqrt(S). "
      ]
    },
    {
      "cell_type": "code",
      "metadata": {
        "colab": {
          "base_uri": "https://localhost:8080/"
        },
        "id": "4T7u8A9136H7",
        "outputId": "1fd53544-5e44-4aa6-c098-6431ffc9af24"
      },
      "source": [
        "#Código para calcular la raiz cuadrada de un numero \"S\" mediante el metodo Babilonio\n",
        "#Aqui introducimos las bibliotecas a utilizar\n",
        "#1. Biblioteca numpy\n",
        "import numpy as np\n",
        "\n",
        "#Breve descripcion de lo que hace el programa\n",
        "print(\"Este programa esta diseñado para calcular la raiz cuadratica de un número S implementando el método Babilonio y convergiendo en un error menor a 0.01\")\n",
        "print(\"\\nIntroduce el número S al que deseas calcular su raíz cuadrada\")\n",
        "S=float(input())\n",
        "print(\"Introduce un número entero que sea lo mas proximo posible a S\")\n",
        "x=float(input())\n",
        "print(\"Calculando.....\")\n",
        "\n",
        "i=0\n",
        "#Se construye el loop que calculara la raiz cuadrada de S hasta llegar a un error menor a 0.01\n",
        "while i==0:\n",
        "  if (S/x+0.01)>=x>=(S/x-0.01):\n",
        "    print(f\"Utilizando el método Babilonio la raiz de {S} es:{x}\")\n",
        "    #Se compara el resultado obtenido con el resultado exacto\n",
        "    print(f\"La raiz cuadrada de {S} calculada por la biblioteca Numpy es:{np.sqrt(S)}\")\n",
        "    i=1\n",
        "  else:\n",
        "    #Contador que registra el calculo de x\n",
        "      x = (S/x+x)/2\n",
        "#Fin del codigo"
      ],
      "execution_count": null,
      "outputs": [
        {
          "output_type": "stream",
          "text": [
            "Este programa esta diseñado para calcular la raiz cuadratica de un número S implementando el método Babilonio y convergiendo en un error menor a 0.01\n",
            "\n",
            "Introduce el número S al que deseas calcular su raíz cuadrada\n",
            "25\n",
            "Introduce un número entero que sea lo mas proximo posible a S\n",
            "20\n",
            "Calculando.....\n",
            "Utilizando el método Babilonio la raiz de 25.0 es:5.002821905998153\n",
            "La raiz cuadrada de 25.0 calculada por la biblioteca Numpy es:5.0\n"
          ],
          "name": "stdout"
        }
      ]
    },
    {
      "cell_type": "markdown",
      "metadata": {
        "id": "pqAMBO71ymG-"
      },
      "source": [
        "*   # ***Ejercicio 4.***"
      ]
    },
    {
      "cell_type": "markdown",
      "metadata": {
        "id": "X3NbwBDszQOi"
      },
      "source": [
        "Reproduce la figura que muestra la aproximación de la funcion ln(1+x) alrededor de x=0."
      ]
    },
    {
      "cell_type": "code",
      "metadata": {
        "colab": {
          "base_uri": "https://localhost:8080/",
          "height": 312
        },
        "id": "fj9Qo5V7ztFi",
        "outputId": "a6250e52-99c4-422a-8e1d-43ee1de17714"
      },
      "source": [
        "#Código para graficar a función ln(x+1) alrededor de los valores de x=0\n",
        "#Aqui introducimos las bibliotecas a utilizar\n",
        "#1. Biblioteca numpy\n",
        "import numpy as np\n",
        "#2. Biblioteca matplotlib\n",
        "import matplotlib.pyplot as plt\n",
        "\n",
        "#Se define el diseño de la grafica\n",
        "\n",
        "#Tamaño y formato de la grafica\n",
        "plt.subplot(111)\n",
        "plt.xlabel(\"Eje X\")\n",
        "plt.ylabel(\"Eje Y\")\n",
        "plt.title(\"Polinomios de Taylor para Ln(x+1)\")\n",
        "#Se agrega una cuadricula a la grafica\n",
        "plt.grid(True)\n",
        "#Rango de valores \n",
        "x = np.linspace(-1.5,1.5,100)\n",
        "#Limites del eje Y \n",
        "plt.ylim(-4,2)\n",
        "#Limites del eje X\n",
        "plt.xlim(-1.5,1.5)\n",
        "\n",
        "#Se calculan y grafican las aproximaciones de Taylor en valores cercanos a 0 \n",
        "#Aproximación de Taylor de grado 4 \n",
        "T4 = x-x**2/2+x**3/3-x**4/4\n",
        "plt.plot(x,T4,label=\"Taylor Orden 4\")\n",
        "#Aproximación de Taylor de grado 7\n",
        "T7 = x-x**2/2+x**3/3-x**4/4+x**5/5-x**6/6+x**7/7\n",
        "plt.plot(x,T7,label=\"Taylor Orden 7\")\n",
        "#Aproximación de Taylor de grado 11\n",
        "T11 = x-x**2/2+x**3/3-x**4/4+x**5/5-x**6/6+x**7/7-x**8/8+x**9/9-x**10/10+x**11/11\n",
        "plt.plot(x,T11,label=\"Taylor Orden 11\")\n",
        "#Aproximación de Taylor de grado 16\n",
        "T16 = x-x**2/2+x**3/3-x**4/4+x**5/5-x**6/6+x**7/7-x**8/8+x**9/9-x**10/10+x**11/11-x**12/12+x**13/13-x**14/14+x**15/15-x**16/16\n",
        "plt.plot(x,T16,label=\"Taylor Orden 16\")\n",
        "#Funcion original ln(x+1)\n",
        "y = np.log(1+x)\n",
        "plt.plot(x,y,label=\"log(1+x)\")\n",
        "\n",
        "#Cuadro de las etiquetas\n",
        "plt.legend(bbox_to_anchor=(1,1), loc=\"upper left\")\n",
        "plt.show()\n",
        "#Fin del codigo"
      ],
      "execution_count": null,
      "outputs": [
        {
          "output_type": "stream",
          "text": [
            "/usr/local/lib/python3.6/dist-packages/ipykernel_launcher.py:38: RuntimeWarning: invalid value encountered in log\n"
          ],
          "name": "stderr"
        },
        {
          "output_type": "display_data",
          "data": {
            "image/png": "[encoded data removed]",
            "text/plain": [
              "<Figure size 432x288 with 1 Axes>"
            ]
          },
          "metadata": {
            "tags": [],
            "needs_background": "light"
          }
        }
      ]
    },
    {
      "cell_type": "code",
      "metadata": {
        "id": "785R8xm_6Y-v"
      },
      "source": [
        ""
      ],
      "execution_count": null,
      "outputs": []
    }
  ]
}